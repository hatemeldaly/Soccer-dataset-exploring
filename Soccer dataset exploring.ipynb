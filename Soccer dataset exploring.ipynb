{
 "cells": [
  {
   "cell_type": "markdown",
   "id": "a7d3cdfa",
   "metadata": {},
   "source": [
    "## Introduction\n",
    "\n",
    "> In this project I'll explore \"Soccer Database\", which contains differnt tables with data about top european leagues teams, matches and player, in the period of season 2008/2009 to season 2015/2016.\n",
    "The dataset was provided in SQLite format and have been checked in DB browser, and later on imported and extracted into python by \"sqlalchemy\" library.\n"
   ]
  },
  {
   "cell_type": "markdown",
   "id": "88b13f2f",
   "metadata": {},
   "source": [
    "#### By the end of the project the following questions should be answered : \n",
    "\n",
    "<ol>\n",
    "    <li><a href=\"#oldest\">Oldest players</a></li>\n",
    "    <li><a href=\"#youngest\">Youngest players</a></li>\n",
    "    <li><a href=\"#shortest\">Shortest players</a></li>\n",
    "    <li><a href=\"#tallest\">Tallest players</a></li>\n",
    "    <li><a href=\"#best\">Best rated players</a></li>\n",
    "    <li><a href=\"#potential\">Best potential rated players</a></li>\n",
    "    <li><a href=\"#apperances\">Players with most appearances</a></li>\n",
    "    <li><a href=\"#season\">Team scored most goals in a single season</a></li>\n",
    "    <li><a href=\"#team_goals\">Team scored most goals</a></li>\n",
    "    <li><a href=\"#season_goals\">Total number of goals for each season</a></li>  \n",
    "    <li><a href=\"#league_goals\">Total number of goals for each League</a></li>\n",
    "    <li><a href=\"#team_improve\">What teams improved the most over the time period?</a></li>    \n",
    "    <li><a href=\"#best_teams_attr\">What team attributes lead to the most victories?</a></li>\n",
    "    <li><a href=\"#win_home_away\">Relation between home and away wins</a></li>\n",
    "    <li><a href=\"#best_teams\">Team with most wins</a></li>\n",
    "    <li><a href=\"#away_wins\">Team with most away wins</a></li>\n",
    "    <li><a href=\"#home_wins\">Team with most home wins</a></li>\n",
    "</ol>"
   ]
  },
  {
   "cell_type": "markdown",
   "id": "8a0d9d38",
   "metadata": {},
   "source": [
    "## Importing libraries\n",
    "### Importing data and converting sqlite files to CSV"
   ]
  },
  {
   "cell_type": "markdown",
   "id": "c95caac9",
   "metadata": {},
   "source": [
    " "
   ]
  },
  {
   "cell_type": "code",
   "execution_count": 1,
   "id": "5faa7717",
   "metadata": {},
   "outputs": [],
   "source": [
    "import pandas as pd\n",
    "import numpy as np\n",
    "import matplotlib.pyplot as plt\n",
    "import seaborn as sns\n",
    "from sqlalchemy import create_engine\n",
    "from IPython.display import Image\n",
    "%matplotlib inline"
   ]
  },
  {
   "cell_type": "markdown",
   "id": "e342ec8d",
   "metadata": {},
   "source": [
    "#### Extract tables from 'sqlite' dataframe\n",
    "#### Then saving extracted tables into differnt CSV table to use later"
   ]
  },
  {
   "cell_type": "code",
   "execution_count": 2,
   "id": "7d557aed",
   "metadata": {},
   "outputs": [
    {
     "name": "stderr",
     "output_type": "stream",
     "text": [
      "C:\\Users\\aswan\\AppData\\Local\\Temp/ipykernel_10496/4261645235.py:2: SADeprecationWarning: The Engine.table_names() method is deprecated and will be removed in a future release.  Please refer to Inspector.get_table_names(). (deprecated since: 1.4)\n",
      "  engine.table_names()\n"
     ]
    },
    {
     "data": {
      "text/plain": [
       "['Country',\n",
       " 'League',\n",
       " 'Match',\n",
       " 'Player',\n",
       " 'Player_Attributes',\n",
       " 'Team',\n",
       " 'Team_Attributes',\n",
       " 'sqlite_sequence']"
      ]
     },
     "execution_count": 2,
     "metadata": {},
     "output_type": "execute_result"
    }
   ],
   "source": [
    "engine = create_engine('sqlite:///database.sqlite')\n",
    "engine.table_names()"
   ]
  },
  {
   "cell_type": "code",
   "execution_count": 3,
   "id": "51b2a040",
   "metadata": {},
   "outputs": [],
   "source": [
    "conn = engine.connect()"
   ]
  },
  {
   "cell_type": "code",
   "execution_count": 4,
   "id": "b4d54ed4",
   "metadata": {},
   "outputs": [],
   "source": [
    "country = pd.read_sql_query('SELECT * FROM Country', engine)\n",
    "country.to_csv('country.csv', index=False)"
   ]
  },
  {
   "cell_type": "code",
   "execution_count": 5,
   "id": "b1844918",
   "metadata": {},
   "outputs": [],
   "source": [
    "league = pd.read_sql_query('SELECT * FROM League', engine)\n",
    "league.to_csv('league.csv', index=False)"
   ]
  },
  {
   "cell_type": "code",
   "execution_count": 6,
   "id": "f184ab4b",
   "metadata": {},
   "outputs": [],
   "source": [
    "match = pd.read_sql_query('SELECT * FROM Match', engine)\n",
    "match.to_csv('match.csv', index=False)"
   ]
  },
  {
   "cell_type": "code",
   "execution_count": 7,
   "id": "6ef03ead",
   "metadata": {},
   "outputs": [],
   "source": [
    "player = pd.read_sql_query('SELECT * FROM Player', engine)\n",
    "player.to_csv('player.csv', index=False)"
   ]
  },
  {
   "cell_type": "code",
   "execution_count": 8,
   "id": "cfdbe309",
   "metadata": {},
   "outputs": [],
   "source": [
    "player_attributes = pd.read_sql_query('SELECT * FROM Player_Attributes', engine)\n",
    "player_attributes.to_csv('player_attributes.csv', index=False)"
   ]
  },
  {
   "cell_type": "code",
   "execution_count": 9,
   "id": "6519a252",
   "metadata": {},
   "outputs": [],
   "source": [
    "team = pd.read_sql_query('SELECT * FROM Team', engine)\n",
    "team.to_csv('team.csv', index=False)"
   ]
  },
  {
   "cell_type": "code",
   "execution_count": 10,
   "id": "848b06b5",
   "metadata": {},
   "outputs": [],
   "source": [
    "team_attributes = pd.read_sql_query('SELECT * FROM Team_Attributes', engine)\n",
    "team_attributes.to_csv('team_attributes.csv', index=False)"
   ]
  },
  {
   "cell_type": "markdown",
   "id": "4fde8413",
   "metadata": {},
   "source": [
    " "
   ]
  },
  {
   "cell_type": "markdown",
   "id": "1fc8e0d7",
   "metadata": {},
   "source": [
    "# Data wrangling & Exploratory data analysis"
   ]
  },
  {
   "cell_type": "markdown",
   "id": "cc5160ce",
   "metadata": {},
   "source": [
    " "
   ]
  },
  {
   "cell_type": "markdown",
   "id": "cc02fb90",
   "metadata": {},
   "source": [
    " "
   ]
  },
  {
   "cell_type": "markdown",
   "id": "d3dc6495",
   "metadata": {},
   "source": [
    "## Players"
   ]
  },
  {
   "cell_type": "code",
   "execution_count": 11,
   "id": "fce8ab8c",
   "metadata": {
    "scrolled": true
   },
   "outputs": [
    {
     "data": {
      "text/html": [
       "<div>\n",
       "<style scoped>\n",
       "    .dataframe tbody tr th:only-of-type {\n",
       "        vertical-align: middle;\n",
       "    }\n",
       "\n",
       "    .dataframe tbody tr th {\n",
       "        vertical-align: top;\n",
       "    }\n",
       "\n",
       "    .dataframe thead th {\n",
       "        text-align: right;\n",
       "    }\n",
       "</style>\n",
       "<table border=\"1\" class=\"dataframe\">\n",
       "  <thead>\n",
       "    <tr style=\"text-align: right;\">\n",
       "      <th></th>\n",
       "      <th>id</th>\n",
       "      <th>player_api_id</th>\n",
       "      <th>player_name</th>\n",
       "      <th>player_fifa_api_id</th>\n",
       "      <th>birthday</th>\n",
       "      <th>height</th>\n",
       "      <th>weight</th>\n",
       "    </tr>\n",
       "  </thead>\n",
       "  <tbody>\n",
       "    <tr>\n",
       "      <th>0</th>\n",
       "      <td>1</td>\n",
       "      <td>505942</td>\n",
       "      <td>Aaron Appindangoye</td>\n",
       "      <td>218353</td>\n",
       "      <td>1992-02-29 00:00:00</td>\n",
       "      <td>182.88</td>\n",
       "      <td>187</td>\n",
       "    </tr>\n",
       "    <tr>\n",
       "      <th>1</th>\n",
       "      <td>2</td>\n",
       "      <td>155782</td>\n",
       "      <td>Aaron Cresswell</td>\n",
       "      <td>189615</td>\n",
       "      <td>1989-12-15 00:00:00</td>\n",
       "      <td>170.18</td>\n",
       "      <td>146</td>\n",
       "    </tr>\n",
       "    <tr>\n",
       "      <th>2</th>\n",
       "      <td>3</td>\n",
       "      <td>162549</td>\n",
       "      <td>Aaron Doran</td>\n",
       "      <td>186170</td>\n",
       "      <td>1991-05-13 00:00:00</td>\n",
       "      <td>170.18</td>\n",
       "      <td>163</td>\n",
       "    </tr>\n",
       "    <tr>\n",
       "      <th>3</th>\n",
       "      <td>4</td>\n",
       "      <td>30572</td>\n",
       "      <td>Aaron Galindo</td>\n",
       "      <td>140161</td>\n",
       "      <td>1982-05-08 00:00:00</td>\n",
       "      <td>182.88</td>\n",
       "      <td>198</td>\n",
       "    </tr>\n",
       "    <tr>\n",
       "      <th>4</th>\n",
       "      <td>5</td>\n",
       "      <td>23780</td>\n",
       "      <td>Aaron Hughes</td>\n",
       "      <td>17725</td>\n",
       "      <td>1979-11-08 00:00:00</td>\n",
       "      <td>182.88</td>\n",
       "      <td>154</td>\n",
       "    </tr>\n",
       "  </tbody>\n",
       "</table>\n",
       "</div>"
      ],
      "text/plain": [
       "   id  player_api_id         player_name  player_fifa_api_id  \\\n",
       "0   1         505942  Aaron Appindangoye              218353   \n",
       "1   2         155782     Aaron Cresswell              189615   \n",
       "2   3         162549         Aaron Doran              186170   \n",
       "3   4          30572       Aaron Galindo              140161   \n",
       "4   5          23780        Aaron Hughes               17725   \n",
       "\n",
       "              birthday  height  weight  \n",
       "0  1992-02-29 00:00:00  182.88     187  \n",
       "1  1989-12-15 00:00:00  170.18     146  \n",
       "2  1991-05-13 00:00:00  170.18     163  \n",
       "3  1982-05-08 00:00:00  182.88     198  \n",
       "4  1979-11-08 00:00:00  182.88     154  "
      ]
     },
     "execution_count": 11,
     "metadata": {},
     "output_type": "execute_result"
    }
   ],
   "source": [
    "player = pd.read_csv('player.csv')\n",
    "player.head()"
   ]
  },
  {
   "cell_type": "code",
   "execution_count": 12,
   "id": "87a7fbc2",
   "metadata": {
    "scrolled": true
   },
   "outputs": [
    {
     "name": "stdout",
     "output_type": "stream",
     "text": [
      "<class 'pandas.core.frame.DataFrame'>\n",
      "RangeIndex: 11060 entries, 0 to 11059\n",
      "Data columns (total 7 columns):\n",
      " #   Column              Non-Null Count  Dtype  \n",
      "---  ------              --------------  -----  \n",
      " 0   id                  11060 non-null  int64  \n",
      " 1   player_api_id       11060 non-null  int64  \n",
      " 2   player_name         11060 non-null  object \n",
      " 3   player_fifa_api_id  11060 non-null  int64  \n",
      " 4   birthday            11060 non-null  object \n",
      " 5   height              11060 non-null  float64\n",
      " 6   weight              11060 non-null  int64  \n",
      "dtypes: float64(1), int64(4), object(2)\n",
      "memory usage: 605.0+ KB\n"
     ]
    }
   ],
   "source": [
    "df_player = player.copy()\n",
    "df_player.info()"
   ]
  },
  {
   "cell_type": "markdown",
   "id": "86be1200",
   "metadata": {},
   "source": [
    ">#### Table has no Na values and datatypes of the columns are the right type except for the birthday which is a string and will convert it to datetime format and drop 'player_fifa_api_id' column because we don't need it for our analysis"
   ]
  },
  {
   "cell_type": "code",
   "execution_count": 13,
   "id": "18ca014f",
   "metadata": {},
   "outputs": [],
   "source": [
    "df_player.drop('player_fifa_api_id', axis = 1, inplace = True)\n",
    "df_player['birthday'] = pd.to_datetime(df_player['birthday'], format = '%Y-%m-%d')"
   ]
  },
  {
   "cell_type": "code",
   "execution_count": 14,
   "id": "1f26df45",
   "metadata": {
    "scrolled": true
   },
   "outputs": [
    {
     "data": {
      "text/html": [
       "<div>\n",
       "<style scoped>\n",
       "    .dataframe tbody tr th:only-of-type {\n",
       "        vertical-align: middle;\n",
       "    }\n",
       "\n",
       "    .dataframe tbody tr th {\n",
       "        vertical-align: top;\n",
       "    }\n",
       "\n",
       "    .dataframe thead th {\n",
       "        text-align: right;\n",
       "    }\n",
       "</style>\n",
       "<table border=\"1\" class=\"dataframe\">\n",
       "  <thead>\n",
       "    <tr style=\"text-align: right;\">\n",
       "      <th></th>\n",
       "      <th>id</th>\n",
       "      <th>player_api_id</th>\n",
       "      <th>player_name</th>\n",
       "      <th>birthday</th>\n",
       "      <th>height</th>\n",
       "      <th>weight</th>\n",
       "    </tr>\n",
       "  </thead>\n",
       "  <tbody>\n",
       "    <tr>\n",
       "      <th>0</th>\n",
       "      <td>1</td>\n",
       "      <td>505942</td>\n",
       "      <td>Aaron Appindangoye</td>\n",
       "      <td>1992-02-29</td>\n",
       "      <td>182.88</td>\n",
       "      <td>187</td>\n",
       "    </tr>\n",
       "    <tr>\n",
       "      <th>1</th>\n",
       "      <td>2</td>\n",
       "      <td>155782</td>\n",
       "      <td>Aaron Cresswell</td>\n",
       "      <td>1989-12-15</td>\n",
       "      <td>170.18</td>\n",
       "      <td>146</td>\n",
       "    </tr>\n",
       "    <tr>\n",
       "      <th>2</th>\n",
       "      <td>3</td>\n",
       "      <td>162549</td>\n",
       "      <td>Aaron Doran</td>\n",
       "      <td>1991-05-13</td>\n",
       "      <td>170.18</td>\n",
       "      <td>163</td>\n",
       "    </tr>\n",
       "    <tr>\n",
       "      <th>3</th>\n",
       "      <td>4</td>\n",
       "      <td>30572</td>\n",
       "      <td>Aaron Galindo</td>\n",
       "      <td>1982-05-08</td>\n",
       "      <td>182.88</td>\n",
       "      <td>198</td>\n",
       "    </tr>\n",
       "    <tr>\n",
       "      <th>4</th>\n",
       "      <td>5</td>\n",
       "      <td>23780</td>\n",
       "      <td>Aaron Hughes</td>\n",
       "      <td>1979-11-08</td>\n",
       "      <td>182.88</td>\n",
       "      <td>154</td>\n",
       "    </tr>\n",
       "  </tbody>\n",
       "</table>\n",
       "</div>"
      ],
      "text/plain": [
       "   id  player_api_id         player_name   birthday  height  weight\n",
       "0   1         505942  Aaron Appindangoye 1992-02-29  182.88     187\n",
       "1   2         155782     Aaron Cresswell 1989-12-15  170.18     146\n",
       "2   3         162549         Aaron Doran 1991-05-13  170.18     163\n",
       "3   4          30572       Aaron Galindo 1982-05-08  182.88     198\n",
       "4   5          23780        Aaron Hughes 1979-11-08  182.88     154"
      ]
     },
     "execution_count": 14,
     "metadata": {},
     "output_type": "execute_result"
    }
   ],
   "source": [
    "df_player.head()"
   ]
  },
  {
   "cell_type": "markdown",
   "id": "11d56ff0",
   "metadata": {},
   "source": [
    "##### Create 4 different tables for oldest, youngest, shortest, tallest players and droping columns not going to use in the findings"
   ]
  },
  {
   "cell_type": "code",
   "execution_count": 15,
   "id": "e2f09dd0",
   "metadata": {},
   "outputs": [],
   "source": [
    "oldest_player = df_player.sort_values(by = 'birthday').head(10)\n",
    "oldest_player.drop(['id','player_api_id','weight', 'height'], axis = 1, inplace = True)\n",
    "oldest_player.to_csv('oldest_player.csv', index=False)\n",
    "\n",
    "youngest_player = df_player.sort_values(by = 'birthday', ascending = False).head(10)\n",
    "youngest_player.drop(['id','player_api_id','weight', 'height'], axis = 1, inplace = True)\n",
    "youngest_player.to_csv('youngest_player.csv', index=False)\n",
    "\n",
    "shortest_player = df_player.sort_values(by = 'height').head(10)\n",
    "shortest_player.drop(['id','player_api_id','weight', 'birthday'], axis = 1, inplace = True)\n",
    "shortest_player.to_csv('shortest_player.csv', index=False)\n",
    "\n",
    "tallest_player = df_player.sort_values(by = 'height', ascending = False).head(10)\n",
    "tallest_player.drop(['id','player_api_id','weight', 'birthday'], axis = 1, inplace = True)\n",
    "tallest_player.to_csv('tallest_player.csv', index=False)"
   ]
  },
  {
   "cell_type": "markdown",
   "id": "73bc24ad",
   "metadata": {},
   "source": [
    "<a id= 'oldest'></a>\n",
    "\n",
    "## Find the oldest players"
   ]
  },
  {
   "cell_type": "markdown",
   "id": "fcf81d71",
   "metadata": {},
   "source": [
    ">#### A table been created with the oldest 20 players based on their birthday\n",
    "With the oldest player in the list *'Alberto Fontana'*"
   ]
  },
  {
   "cell_type": "code",
   "execution_count": 16,
   "id": "cbded5d0",
   "metadata": {
    "scrolled": true
   },
   "outputs": [
    {
     "data": {
      "text/html": [
       "<div>\n",
       "<style scoped>\n",
       "    .dataframe tbody tr th:only-of-type {\n",
       "        vertical-align: middle;\n",
       "    }\n",
       "\n",
       "    .dataframe tbody tr th {\n",
       "        vertical-align: top;\n",
       "    }\n",
       "\n",
       "    .dataframe thead th {\n",
       "        text-align: right;\n",
       "    }\n",
       "</style>\n",
       "<table border=\"1\" class=\"dataframe\">\n",
       "  <thead>\n",
       "    <tr style=\"text-align: right;\">\n",
       "      <th></th>\n",
       "      <th>player_name</th>\n",
       "      <th>birthday</th>\n",
       "    </tr>\n",
       "  </thead>\n",
       "  <tbody>\n",
       "    <tr>\n",
       "      <th>289</th>\n",
       "      <td>Alberto Fontana</td>\n",
       "      <td>1967-01-23</td>\n",
       "    </tr>\n",
       "    <tr>\n",
       "      <th>8284</th>\n",
       "      <td>Paolo Maldini</td>\n",
       "      <td>1968-06-26</td>\n",
       "    </tr>\n",
       "    <tr>\n",
       "      <th>8993</th>\n",
       "      <td>Rob van Dijk</td>\n",
       "      <td>1969-01-15</td>\n",
       "    </tr>\n",
       "    <tr>\n",
       "      <th>6238</th>\n",
       "      <td>Luca Bucci</td>\n",
       "      <td>1969-03-13</td>\n",
       "    </tr>\n",
       "    <tr>\n",
       "      <th>2492</th>\n",
       "      <td>Dean Windass</td>\n",
       "      <td>1969-04-01</td>\n",
       "    </tr>\n",
       "    <tr>\n",
       "      <th>3452</th>\n",
       "      <td>Francesco Antonioli</td>\n",
       "      <td>1969-09-14</td>\n",
       "    </tr>\n",
       "    <tr>\n",
       "      <th>7389</th>\n",
       "      <td>Michael Tarnat</td>\n",
       "      <td>1969-10-27</td>\n",
       "    </tr>\n",
       "    <tr>\n",
       "      <th>4827</th>\n",
       "      <td>Jens Lehmann</td>\n",
       "      <td>1969-11-10</td>\n",
       "    </tr>\n",
       "    <tr>\n",
       "      <th>4122</th>\n",
       "      <td>Hans Vonk</td>\n",
       "      <td>1970-01-30</td>\n",
       "    </tr>\n",
       "    <tr>\n",
       "      <th>2429</th>\n",
       "      <td>David Weir</td>\n",
       "      <td>1970-05-10</td>\n",
       "    </tr>\n",
       "  </tbody>\n",
       "</table>\n",
       "</div>"
      ],
      "text/plain": [
       "              player_name   birthday\n",
       "289       Alberto Fontana 1967-01-23\n",
       "8284        Paolo Maldini 1968-06-26\n",
       "8993         Rob van Dijk 1969-01-15\n",
       "6238           Luca Bucci 1969-03-13\n",
       "2492         Dean Windass 1969-04-01\n",
       "3452  Francesco Antonioli 1969-09-14\n",
       "7389       Michael Tarnat 1969-10-27\n",
       "4827         Jens Lehmann 1969-11-10\n",
       "4122            Hans Vonk 1970-01-30\n",
       "2429           David Weir 1970-05-10"
      ]
     },
     "execution_count": 16,
     "metadata": {},
     "output_type": "execute_result"
    }
   ],
   "source": [
    "oldest_player"
   ]
  },
  {
   "cell_type": "markdown",
   "id": "0b7a1699",
   "metadata": {},
   "source": [
    "<a id= 'youngest'></a>\n",
    "\n",
    "## Find the youngest players"
   ]
  },
  {
   "cell_type": "markdown",
   "id": "71a7c3fb",
   "metadata": {},
   "source": [
    ">#### A table been created with the youngest 20 players based on their birthday\n",
    "With the youngest player in the list *'Jonathan Leko'*"
   ]
  },
  {
   "cell_type": "code",
   "execution_count": 17,
   "id": "16dfb1e8",
   "metadata": {
    "scrolled": true
   },
   "outputs": [
    {
     "data": {
      "text/html": [
       "<div>\n",
       "<style scoped>\n",
       "    .dataframe tbody tr th:only-of-type {\n",
       "        vertical-align: middle;\n",
       "    }\n",
       "\n",
       "    .dataframe tbody tr th {\n",
       "        vertical-align: top;\n",
       "    }\n",
       "\n",
       "    .dataframe thead th {\n",
       "        text-align: right;\n",
       "    }\n",
       "</style>\n",
       "<table border=\"1\" class=\"dataframe\">\n",
       "  <thead>\n",
       "    <tr style=\"text-align: right;\">\n",
       "      <th></th>\n",
       "      <th>player_name</th>\n",
       "      <th>birthday</th>\n",
       "    </tr>\n",
       "  </thead>\n",
       "  <tbody>\n",
       "    <tr>\n",
       "      <th>5176</th>\n",
       "      <td>Jonathan Leko</td>\n",
       "      <td>1999-04-24</td>\n",
       "    </tr>\n",
       "    <tr>\n",
       "      <th>3823</th>\n",
       "      <td>Gianluigi Donnarumma</td>\n",
       "      <td>1999-02-25</td>\n",
       "    </tr>\n",
       "    <tr>\n",
       "      <th>271</th>\n",
       "      <td>Alban Lafont</td>\n",
       "      <td>1999-01-23</td>\n",
       "    </tr>\n",
       "    <tr>\n",
       "      <th>5947</th>\n",
       "      <td>Kylian Mbappe Lottin</td>\n",
       "      <td>1998-12-20</td>\n",
       "    </tr>\n",
       "    <tr>\n",
       "      <th>8826</th>\n",
       "      <td>Reece Oxford</td>\n",
       "      <td>1998-12-16</td>\n",
       "    </tr>\n",
       "    <tr>\n",
       "      <th>4139</th>\n",
       "      <td>Harry Souttar</td>\n",
       "      <td>1998-10-22</td>\n",
       "    </tr>\n",
       "    <tr>\n",
       "      <th>1768</th>\n",
       "      <td>Christian Pulisic</td>\n",
       "      <td>1998-09-18</td>\n",
       "    </tr>\n",
       "    <tr>\n",
       "      <th>5152</th>\n",
       "      <td>Jonatan Montiel</td>\n",
       "      <td>1998-09-03</td>\n",
       "    </tr>\n",
       "    <tr>\n",
       "      <th>10356</th>\n",
       "      <td>Tom Davies</td>\n",
       "      <td>1998-06-30</td>\n",
       "    </tr>\n",
       "    <tr>\n",
       "      <th>9198</th>\n",
       "      <td>Ronael Pierre-Gabriel</td>\n",
       "      <td>1998-06-13</td>\n",
       "    </tr>\n",
       "  </tbody>\n",
       "</table>\n",
       "</div>"
      ],
      "text/plain": [
       "                 player_name   birthday\n",
       "5176           Jonathan Leko 1999-04-24\n",
       "3823    Gianluigi Donnarumma 1999-02-25\n",
       "271             Alban Lafont 1999-01-23\n",
       "5947    Kylian Mbappe Lottin 1998-12-20\n",
       "8826            Reece Oxford 1998-12-16\n",
       "4139           Harry Souttar 1998-10-22\n",
       "1768       Christian Pulisic 1998-09-18\n",
       "5152         Jonatan Montiel 1998-09-03\n",
       "10356             Tom Davies 1998-06-30\n",
       "9198   Ronael Pierre-Gabriel 1998-06-13"
      ]
     },
     "execution_count": 17,
     "metadata": {},
     "output_type": "execute_result"
    }
   ],
   "source": [
    "youngest_player"
   ]
  },
  {
   "cell_type": "markdown",
   "id": "5583b794",
   "metadata": {},
   "source": [
    "<a id= 'shortest'></a>\n",
    "\n",
    "# Find the shortest player"
   ]
  },
  {
   "cell_type": "markdown",
   "id": "d2649060",
   "metadata": {},
   "source": [
    ">#### A table been created with the shortest 10 players based on their reported height\n",
    "With the shortest player in the list *'Juan Quero'*"
   ]
  },
  {
   "cell_type": "code",
   "execution_count": 18,
   "id": "692e00c2",
   "metadata": {
    "scrolled": true
   },
   "outputs": [
    {
     "data": {
      "text/html": [
       "<div>\n",
       "<style scoped>\n",
       "    .dataframe tbody tr th:only-of-type {\n",
       "        vertical-align: middle;\n",
       "    }\n",
       "\n",
       "    .dataframe tbody tr th {\n",
       "        vertical-align: top;\n",
       "    }\n",
       "\n",
       "    .dataframe thead th {\n",
       "        text-align: right;\n",
       "    }\n",
       "</style>\n",
       "<table border=\"1\" class=\"dataframe\">\n",
       "  <thead>\n",
       "    <tr style=\"text-align: right;\">\n",
       "      <th></th>\n",
       "      <th>player_name</th>\n",
       "      <th>height</th>\n",
       "    </tr>\n",
       "  </thead>\n",
       "  <tbody>\n",
       "    <tr>\n",
       "      <th>5446</th>\n",
       "      <td>Juan Quero</td>\n",
       "      <td>157.48</td>\n",
       "    </tr>\n",
       "    <tr>\n",
       "      <th>2609</th>\n",
       "      <td>Diego Buonanotte</td>\n",
       "      <td>160.02</td>\n",
       "    </tr>\n",
       "    <tr>\n",
       "      <th>7247</th>\n",
       "      <td>Maxi Moralez</td>\n",
       "      <td>160.02</td>\n",
       "    </tr>\n",
       "    <tr>\n",
       "      <th>2853</th>\n",
       "      <td>Edgar Salli</td>\n",
       "      <td>162.56</td>\n",
       "    </tr>\n",
       "    <tr>\n",
       "      <th>9427</th>\n",
       "      <td>Samuel Asamoah</td>\n",
       "      <td>162.56</td>\n",
       "    </tr>\n",
       "    <tr>\n",
       "      <th>3442</th>\n",
       "      <td>Fouad Rachid</td>\n",
       "      <td>162.56</td>\n",
       "    </tr>\n",
       "    <tr>\n",
       "      <th>8672</th>\n",
       "      <td>Quentin Othon</td>\n",
       "      <td>162.56</td>\n",
       "    </tr>\n",
       "    <tr>\n",
       "      <th>829</th>\n",
       "      <td>Anthony Deroin</td>\n",
       "      <td>162.56</td>\n",
       "    </tr>\n",
       "    <tr>\n",
       "      <th>1081</th>\n",
       "      <td>Bakari Kone</td>\n",
       "      <td>162.56</td>\n",
       "    </tr>\n",
       "    <tr>\n",
       "      <th>8251</th>\n",
       "      <td>Pablo Piatti</td>\n",
       "      <td>162.56</td>\n",
       "    </tr>\n",
       "  </tbody>\n",
       "</table>\n",
       "</div>"
      ],
      "text/plain": [
       "           player_name  height\n",
       "5446        Juan Quero  157.48\n",
       "2609  Diego Buonanotte  160.02\n",
       "7247      Maxi Moralez  160.02\n",
       "2853       Edgar Salli  162.56\n",
       "9427    Samuel Asamoah  162.56\n",
       "3442      Fouad Rachid  162.56\n",
       "8672     Quentin Othon  162.56\n",
       "829     Anthony Deroin  162.56\n",
       "1081       Bakari Kone  162.56\n",
       "8251      Pablo Piatti  162.56"
      ]
     },
     "execution_count": 18,
     "metadata": {},
     "output_type": "execute_result"
    }
   ],
   "source": [
    "shortest_player"
   ]
  },
  {
   "cell_type": "markdown",
   "id": "04aa6f97",
   "metadata": {},
   "source": [
    "<a id= 'tallest'></a>\n",
    "# Find the tallest player"
   ]
  },
  {
   "cell_type": "markdown",
   "id": "37fab9c1",
   "metadata": {},
   "source": [
    ">#### A table been created with the tallest 10 players based on their reported height\n",
    "With the tallest player in the list *'Kristof van Hout'*"
   ]
  },
  {
   "cell_type": "code",
   "execution_count": 19,
   "id": "c7a36225",
   "metadata": {},
   "outputs": [
    {
     "data": {
      "text/html": [
       "<div>\n",
       "<style scoped>\n",
       "    .dataframe tbody tr th:only-of-type {\n",
       "        vertical-align: middle;\n",
       "    }\n",
       "\n",
       "    .dataframe tbody tr th {\n",
       "        vertical-align: top;\n",
       "    }\n",
       "\n",
       "    .dataframe thead th {\n",
       "        text-align: right;\n",
       "    }\n",
       "</style>\n",
       "<table border=\"1\" class=\"dataframe\">\n",
       "  <thead>\n",
       "    <tr style=\"text-align: right;\">\n",
       "      <th></th>\n",
       "      <th>player_name</th>\n",
       "      <th>height</th>\n",
       "    </tr>\n",
       "  </thead>\n",
       "  <tbody>\n",
       "    <tr>\n",
       "      <th>5901</th>\n",
       "      <td>Kristof van Hout</td>\n",
       "      <td>208.28</td>\n",
       "    </tr>\n",
       "    <tr>\n",
       "      <th>8004</th>\n",
       "      <td>Nikola Zigic</td>\n",
       "      <td>203.20</td>\n",
       "    </tr>\n",
       "    <tr>\n",
       "      <th>5950</th>\n",
       "      <td>Lacina Traore</td>\n",
       "      <td>203.20</td>\n",
       "    </tr>\n",
       "    <tr>\n",
       "      <th>10558</th>\n",
       "      <td>Vanja Milinkovic-Savic</td>\n",
       "      <td>203.20</td>\n",
       "    </tr>\n",
       "    <tr>\n",
       "      <th>1298</th>\n",
       "      <td>Bogdan Milic</td>\n",
       "      <td>203.20</td>\n",
       "    </tr>\n",
       "    <tr>\n",
       "      <th>3270</th>\n",
       "      <td>Fejsal Mulic</td>\n",
       "      <td>203.20</td>\n",
       "    </tr>\n",
       "    <tr>\n",
       "      <th>5797</th>\n",
       "      <td>Kevin Vink</td>\n",
       "      <td>203.20</td>\n",
       "    </tr>\n",
       "    <tr>\n",
       "      <th>8273</th>\n",
       "      <td>Paolo Acerbis</td>\n",
       "      <td>203.20</td>\n",
       "    </tr>\n",
       "    <tr>\n",
       "      <th>11027</th>\n",
       "      <td>Zeljko Kalac</td>\n",
       "      <td>203.20</td>\n",
       "    </tr>\n",
       "    <tr>\n",
       "      <th>1923</th>\n",
       "      <td>Costel Pantilimon</td>\n",
       "      <td>203.20</td>\n",
       "    </tr>\n",
       "  </tbody>\n",
       "</table>\n",
       "</div>"
      ],
      "text/plain": [
       "                  player_name  height\n",
       "5901         Kristof van Hout  208.28\n",
       "8004             Nikola Zigic  203.20\n",
       "5950            Lacina Traore  203.20\n",
       "10558  Vanja Milinkovic-Savic  203.20\n",
       "1298             Bogdan Milic  203.20\n",
       "3270             Fejsal Mulic  203.20\n",
       "5797               Kevin Vink  203.20\n",
       "8273            Paolo Acerbis  203.20\n",
       "11027            Zeljko Kalac  203.20\n",
       "1923        Costel Pantilimon  203.20"
      ]
     },
     "execution_count": 19,
     "metadata": {},
     "output_type": "execute_result"
    }
   ],
   "source": [
    "tallest_player"
   ]
  },
  {
   "cell_type": "code",
   "execution_count": 20,
   "id": "eed9bbc1",
   "metadata": {
    "scrolled": true
   },
   "outputs": [
    {
     "data": {
      "text/html": [
       "<div>\n",
       "<style scoped>\n",
       "    .dataframe tbody tr th:only-of-type {\n",
       "        vertical-align: middle;\n",
       "    }\n",
       "\n",
       "    .dataframe tbody tr th {\n",
       "        vertical-align: top;\n",
       "    }\n",
       "\n",
       "    .dataframe thead th {\n",
       "        text-align: right;\n",
       "    }\n",
       "</style>\n",
       "<table border=\"1\" class=\"dataframe\">\n",
       "  <thead>\n",
       "    <tr style=\"text-align: right;\">\n",
       "      <th></th>\n",
       "      <th>id</th>\n",
       "      <th>player_fifa_api_id</th>\n",
       "      <th>player_api_id</th>\n",
       "      <th>date</th>\n",
       "      <th>overall_rating</th>\n",
       "      <th>potential</th>\n",
       "      <th>preferred_foot</th>\n",
       "      <th>attacking_work_rate</th>\n",
       "      <th>defensive_work_rate</th>\n",
       "      <th>crossing</th>\n",
       "      <th>...</th>\n",
       "      <th>vision</th>\n",
       "      <th>penalties</th>\n",
       "      <th>marking</th>\n",
       "      <th>standing_tackle</th>\n",
       "      <th>sliding_tackle</th>\n",
       "      <th>gk_diving</th>\n",
       "      <th>gk_handling</th>\n",
       "      <th>gk_kicking</th>\n",
       "      <th>gk_positioning</th>\n",
       "      <th>gk_reflexes</th>\n",
       "    </tr>\n",
       "  </thead>\n",
       "  <tbody>\n",
       "    <tr>\n",
       "      <th>0</th>\n",
       "      <td>1</td>\n",
       "      <td>218353</td>\n",
       "      <td>505942</td>\n",
       "      <td>2016-02-18 00:00:00</td>\n",
       "      <td>67.0</td>\n",
       "      <td>71.0</td>\n",
       "      <td>right</td>\n",
       "      <td>medium</td>\n",
       "      <td>medium</td>\n",
       "      <td>49.0</td>\n",
       "      <td>...</td>\n",
       "      <td>54.0</td>\n",
       "      <td>48.0</td>\n",
       "      <td>65.0</td>\n",
       "      <td>69.0</td>\n",
       "      <td>69.0</td>\n",
       "      <td>6.0</td>\n",
       "      <td>11.0</td>\n",
       "      <td>10.0</td>\n",
       "      <td>8.0</td>\n",
       "      <td>8.0</td>\n",
       "    </tr>\n",
       "    <tr>\n",
       "      <th>1</th>\n",
       "      <td>2</td>\n",
       "      <td>218353</td>\n",
       "      <td>505942</td>\n",
       "      <td>2015-11-19 00:00:00</td>\n",
       "      <td>67.0</td>\n",
       "      <td>71.0</td>\n",
       "      <td>right</td>\n",
       "      <td>medium</td>\n",
       "      <td>medium</td>\n",
       "      <td>49.0</td>\n",
       "      <td>...</td>\n",
       "      <td>54.0</td>\n",
       "      <td>48.0</td>\n",
       "      <td>65.0</td>\n",
       "      <td>69.0</td>\n",
       "      <td>69.0</td>\n",
       "      <td>6.0</td>\n",
       "      <td>11.0</td>\n",
       "      <td>10.0</td>\n",
       "      <td>8.0</td>\n",
       "      <td>8.0</td>\n",
       "    </tr>\n",
       "    <tr>\n",
       "      <th>2</th>\n",
       "      <td>3</td>\n",
       "      <td>218353</td>\n",
       "      <td>505942</td>\n",
       "      <td>2015-09-21 00:00:00</td>\n",
       "      <td>62.0</td>\n",
       "      <td>66.0</td>\n",
       "      <td>right</td>\n",
       "      <td>medium</td>\n",
       "      <td>medium</td>\n",
       "      <td>49.0</td>\n",
       "      <td>...</td>\n",
       "      <td>54.0</td>\n",
       "      <td>48.0</td>\n",
       "      <td>65.0</td>\n",
       "      <td>66.0</td>\n",
       "      <td>69.0</td>\n",
       "      <td>6.0</td>\n",
       "      <td>11.0</td>\n",
       "      <td>10.0</td>\n",
       "      <td>8.0</td>\n",
       "      <td>8.0</td>\n",
       "    </tr>\n",
       "    <tr>\n",
       "      <th>3</th>\n",
       "      <td>4</td>\n",
       "      <td>218353</td>\n",
       "      <td>505942</td>\n",
       "      <td>2015-03-20 00:00:00</td>\n",
       "      <td>61.0</td>\n",
       "      <td>65.0</td>\n",
       "      <td>right</td>\n",
       "      <td>medium</td>\n",
       "      <td>medium</td>\n",
       "      <td>48.0</td>\n",
       "      <td>...</td>\n",
       "      <td>53.0</td>\n",
       "      <td>47.0</td>\n",
       "      <td>62.0</td>\n",
       "      <td>63.0</td>\n",
       "      <td>66.0</td>\n",
       "      <td>5.0</td>\n",
       "      <td>10.0</td>\n",
       "      <td>9.0</td>\n",
       "      <td>7.0</td>\n",
       "      <td>7.0</td>\n",
       "    </tr>\n",
       "    <tr>\n",
       "      <th>4</th>\n",
       "      <td>5</td>\n",
       "      <td>218353</td>\n",
       "      <td>505942</td>\n",
       "      <td>2007-02-22 00:00:00</td>\n",
       "      <td>61.0</td>\n",
       "      <td>65.0</td>\n",
       "      <td>right</td>\n",
       "      <td>medium</td>\n",
       "      <td>medium</td>\n",
       "      <td>48.0</td>\n",
       "      <td>...</td>\n",
       "      <td>53.0</td>\n",
       "      <td>47.0</td>\n",
       "      <td>62.0</td>\n",
       "      <td>63.0</td>\n",
       "      <td>66.0</td>\n",
       "      <td>5.0</td>\n",
       "      <td>10.0</td>\n",
       "      <td>9.0</td>\n",
       "      <td>7.0</td>\n",
       "      <td>7.0</td>\n",
       "    </tr>\n",
       "  </tbody>\n",
       "</table>\n",
       "<p>5 rows × 42 columns</p>\n",
       "</div>"
      ],
      "text/plain": [
       "   id  player_fifa_api_id  player_api_id                 date  overall_rating  \\\n",
       "0   1              218353         505942  2016-02-18 00:00:00            67.0   \n",
       "1   2              218353         505942  2015-11-19 00:00:00            67.0   \n",
       "2   3              218353         505942  2015-09-21 00:00:00            62.0   \n",
       "3   4              218353         505942  2015-03-20 00:00:00            61.0   \n",
       "4   5              218353         505942  2007-02-22 00:00:00            61.0   \n",
       "\n",
       "   potential preferred_foot attacking_work_rate defensive_work_rate  crossing  \\\n",
       "0       71.0          right              medium              medium      49.0   \n",
       "1       71.0          right              medium              medium      49.0   \n",
       "2       66.0          right              medium              medium      49.0   \n",
       "3       65.0          right              medium              medium      48.0   \n",
       "4       65.0          right              medium              medium      48.0   \n",
       "\n",
       "   ...  vision  penalties  marking  standing_tackle  sliding_tackle  \\\n",
       "0  ...    54.0       48.0     65.0             69.0            69.0   \n",
       "1  ...    54.0       48.0     65.0             69.0            69.0   \n",
       "2  ...    54.0       48.0     65.0             66.0            69.0   \n",
       "3  ...    53.0       47.0     62.0             63.0            66.0   \n",
       "4  ...    53.0       47.0     62.0             63.0            66.0   \n",
       "\n",
       "   gk_diving  gk_handling  gk_kicking  gk_positioning  gk_reflexes  \n",
       "0        6.0         11.0        10.0             8.0          8.0  \n",
       "1        6.0         11.0        10.0             8.0          8.0  \n",
       "2        6.0         11.0        10.0             8.0          8.0  \n",
       "3        5.0         10.0         9.0             7.0          7.0  \n",
       "4        5.0         10.0         9.0             7.0          7.0  \n",
       "\n",
       "[5 rows x 42 columns]"
      ]
     },
     "execution_count": 20,
     "metadata": {},
     "output_type": "execute_result"
    }
   ],
   "source": [
    "player_attributes = pd.read_csv('player_attributes.csv')\n",
    "player_attributes.head()"
   ]
  },
  {
   "cell_type": "code",
   "execution_count": 21,
   "id": "9f5fd2b5",
   "metadata": {},
   "outputs": [
    {
     "name": "stdout",
     "output_type": "stream",
     "text": [
      "<class 'pandas.core.frame.DataFrame'>\n",
      "RangeIndex: 183978 entries, 0 to 183977\n",
      "Data columns (total 42 columns):\n",
      " #   Column               Non-Null Count   Dtype  \n",
      "---  ------               --------------   -----  \n",
      " 0   id                   183978 non-null  int64  \n",
      " 1   player_fifa_api_id   183978 non-null  int64  \n",
      " 2   player_api_id        183978 non-null  int64  \n",
      " 3   date                 183978 non-null  object \n",
      " 4   overall_rating       183142 non-null  float64\n",
      " 5   potential            183142 non-null  float64\n",
      " 6   preferred_foot       183142 non-null  object \n",
      " 7   attacking_work_rate  180748 non-null  object \n",
      " 8   defensive_work_rate  183142 non-null  object \n",
      " 9   crossing             183142 non-null  float64\n",
      " 10  finishing            183142 non-null  float64\n",
      " 11  heading_accuracy     183142 non-null  float64\n",
      " 12  short_passing        183142 non-null  float64\n",
      " 13  volleys              181265 non-null  float64\n",
      " 14  dribbling            183142 non-null  float64\n",
      " 15  curve                181265 non-null  float64\n",
      " 16  free_kick_accuracy   183142 non-null  float64\n",
      " 17  long_passing         183142 non-null  float64\n",
      " 18  ball_control         183142 non-null  float64\n",
      " 19  acceleration         183142 non-null  float64\n",
      " 20  sprint_speed         183142 non-null  float64\n",
      " 21  agility              181265 non-null  float64\n",
      " 22  reactions            183142 non-null  float64\n",
      " 23  balance              181265 non-null  float64\n",
      " 24  shot_power           183142 non-null  float64\n",
      " 25  jumping              181265 non-null  float64\n",
      " 26  stamina              183142 non-null  float64\n",
      " 27  strength             183142 non-null  float64\n",
      " 28  long_shots           183142 non-null  float64\n",
      " 29  aggression           183142 non-null  float64\n",
      " 30  interceptions        183142 non-null  float64\n",
      " 31  positioning          183142 non-null  float64\n",
      " 32  vision               181265 non-null  float64\n",
      " 33  penalties            183142 non-null  float64\n",
      " 34  marking              183142 non-null  float64\n",
      " 35  standing_tackle      183142 non-null  float64\n",
      " 36  sliding_tackle       181265 non-null  float64\n",
      " 37  gk_diving            183142 non-null  float64\n",
      " 38  gk_handling          183142 non-null  float64\n",
      " 39  gk_kicking           183142 non-null  float64\n",
      " 40  gk_positioning       183142 non-null  float64\n",
      " 41  gk_reflexes          183142 non-null  float64\n",
      "dtypes: float64(35), int64(3), object(4)\n",
      "memory usage: 59.0+ MB\n"
     ]
    }
   ],
   "source": [
    "player_attributes.info()"
   ]
  },
  {
   "cell_type": "markdown",
   "id": "2d33bfec",
   "metadata": {},
   "source": [
    "> player_attributes has 41 columns most of them not going to use during this analysis so I picked 3 coulmns('player_api_id','overall_rating','potential) that we are going to use in our next analysis and disregard the rest but only in a copy of the orginal table because we might need the orginal df later on, and checked the table for Nan values and found none"
   ]
  },
  {
   "cell_type": "code",
   "execution_count": 22,
   "id": "8f6b09ba",
   "metadata": {
    "scrolled": false
   },
   "outputs": [
    {
     "data": {
      "text/html": [
       "<div>\n",
       "<style scoped>\n",
       "    .dataframe tbody tr th:only-of-type {\n",
       "        vertical-align: middle;\n",
       "    }\n",
       "\n",
       "    .dataframe tbody tr th {\n",
       "        vertical-align: top;\n",
       "    }\n",
       "\n",
       "    .dataframe thead th {\n",
       "        text-align: right;\n",
       "    }\n",
       "</style>\n",
       "<table border=\"1\" class=\"dataframe\">\n",
       "  <thead>\n",
       "    <tr style=\"text-align: right;\">\n",
       "      <th></th>\n",
       "      <th>player_api_id</th>\n",
       "      <th>overall_rating</th>\n",
       "      <th>potential</th>\n",
       "    </tr>\n",
       "  </thead>\n",
       "  <tbody>\n",
       "    <tr>\n",
       "      <th>0</th>\n",
       "      <td>505942</td>\n",
       "      <td>67.0</td>\n",
       "      <td>71.0</td>\n",
       "    </tr>\n",
       "    <tr>\n",
       "      <th>1</th>\n",
       "      <td>505942</td>\n",
       "      <td>67.0</td>\n",
       "      <td>71.0</td>\n",
       "    </tr>\n",
       "    <tr>\n",
       "      <th>2</th>\n",
       "      <td>505942</td>\n",
       "      <td>62.0</td>\n",
       "      <td>66.0</td>\n",
       "    </tr>\n",
       "    <tr>\n",
       "      <th>3</th>\n",
       "      <td>505942</td>\n",
       "      <td>61.0</td>\n",
       "      <td>65.0</td>\n",
       "    </tr>\n",
       "    <tr>\n",
       "      <th>4</th>\n",
       "      <td>505942</td>\n",
       "      <td>61.0</td>\n",
       "      <td>65.0</td>\n",
       "    </tr>\n",
       "    <tr>\n",
       "      <th>...</th>\n",
       "      <td>...</td>\n",
       "      <td>...</td>\n",
       "      <td>...</td>\n",
       "    </tr>\n",
       "    <tr>\n",
       "      <th>183973</th>\n",
       "      <td>39902</td>\n",
       "      <td>83.0</td>\n",
       "      <td>85.0</td>\n",
       "    </tr>\n",
       "    <tr>\n",
       "      <th>183974</th>\n",
       "      <td>39902</td>\n",
       "      <td>78.0</td>\n",
       "      <td>80.0</td>\n",
       "    </tr>\n",
       "    <tr>\n",
       "      <th>183975</th>\n",
       "      <td>39902</td>\n",
       "      <td>77.0</td>\n",
       "      <td>80.0</td>\n",
       "    </tr>\n",
       "    <tr>\n",
       "      <th>183976</th>\n",
       "      <td>39902</td>\n",
       "      <td>78.0</td>\n",
       "      <td>81.0</td>\n",
       "    </tr>\n",
       "    <tr>\n",
       "      <th>183977</th>\n",
       "      <td>39902</td>\n",
       "      <td>80.0</td>\n",
       "      <td>81.0</td>\n",
       "    </tr>\n",
       "  </tbody>\n",
       "</table>\n",
       "<p>183978 rows × 3 columns</p>\n",
       "</div>"
      ],
      "text/plain": [
       "        player_api_id  overall_rating  potential\n",
       "0              505942            67.0       71.0\n",
       "1              505942            67.0       71.0\n",
       "2              505942            62.0       66.0\n",
       "3              505942            61.0       65.0\n",
       "4              505942            61.0       65.0\n",
       "...               ...             ...        ...\n",
       "183973          39902            83.0       85.0\n",
       "183974          39902            78.0       80.0\n",
       "183975          39902            77.0       80.0\n",
       "183976          39902            78.0       81.0\n",
       "183977          39902            80.0       81.0\n",
       "\n",
       "[183978 rows x 3 columns]"
      ]
     },
     "execution_count": 22,
     "metadata": {},
     "output_type": "execute_result"
    }
   ],
   "source": [
    "player_attributes_1 = player_attributes[['player_api_id','overall_rating','potential']]\n",
    "player_attributes_1"
   ]
  },
  {
   "cell_type": "code",
   "execution_count": 23,
   "id": "0629101e",
   "metadata": {},
   "outputs": [
    {
     "name": "stdout",
     "output_type": "stream",
     "text": [
      "<class 'pandas.core.frame.DataFrame'>\n",
      "RangeIndex: 183978 entries, 0 to 183977\n",
      "Data columns (total 3 columns):\n",
      " #   Column          Non-Null Count   Dtype  \n",
      "---  ------          --------------   -----  \n",
      " 0   player_api_id   183978 non-null  int64  \n",
      " 1   overall_rating  183142 non-null  float64\n",
      " 2   potential       183142 non-null  float64\n",
      "dtypes: float64(2), int64(1)\n",
      "memory usage: 4.2 MB\n"
     ]
    }
   ],
   "source": [
    "player_attributes_1.info()"
   ]
  },
  {
   "cell_type": "markdown",
   "id": "3d62b119",
   "metadata": {},
   "source": []
  },
  {
   "cell_type": "code",
   "execution_count": 24,
   "id": "0777c148",
   "metadata": {
    "scrolled": false
   },
   "outputs": [
    {
     "data": {
      "text/html": [
       "<div>\n",
       "<style scoped>\n",
       "    .dataframe tbody tr th:only-of-type {\n",
       "        vertical-align: middle;\n",
       "    }\n",
       "\n",
       "    .dataframe tbody tr th {\n",
       "        vertical-align: top;\n",
       "    }\n",
       "\n",
       "    .dataframe thead th {\n",
       "        text-align: right;\n",
       "    }\n",
       "</style>\n",
       "<table border=\"1\" class=\"dataframe\">\n",
       "  <thead>\n",
       "    <tr style=\"text-align: right;\">\n",
       "      <th></th>\n",
       "      <th>player_api_id</th>\n",
       "      <th>player_name</th>\n",
       "    </tr>\n",
       "  </thead>\n",
       "  <tbody>\n",
       "    <tr>\n",
       "      <th>0</th>\n",
       "      <td>505942</td>\n",
       "      <td>Aaron Appindangoye</td>\n",
       "    </tr>\n",
       "    <tr>\n",
       "      <th>1</th>\n",
       "      <td>155782</td>\n",
       "      <td>Aaron Cresswell</td>\n",
       "    </tr>\n",
       "    <tr>\n",
       "      <th>2</th>\n",
       "      <td>162549</td>\n",
       "      <td>Aaron Doran</td>\n",
       "    </tr>\n",
       "    <tr>\n",
       "      <th>3</th>\n",
       "      <td>30572</td>\n",
       "      <td>Aaron Galindo</td>\n",
       "    </tr>\n",
       "    <tr>\n",
       "      <th>4</th>\n",
       "      <td>23780</td>\n",
       "      <td>Aaron Hughes</td>\n",
       "    </tr>\n",
       "    <tr>\n",
       "      <th>...</th>\n",
       "      <td>...</td>\n",
       "      <td>...</td>\n",
       "    </tr>\n",
       "    <tr>\n",
       "      <th>11055</th>\n",
       "      <td>26357</td>\n",
       "      <td>Zoumana Camara</td>\n",
       "    </tr>\n",
       "    <tr>\n",
       "      <th>11056</th>\n",
       "      <td>111182</td>\n",
       "      <td>Zsolt Laczko</td>\n",
       "    </tr>\n",
       "    <tr>\n",
       "      <th>11057</th>\n",
       "      <td>36491</td>\n",
       "      <td>Zsolt Low</td>\n",
       "    </tr>\n",
       "    <tr>\n",
       "      <th>11058</th>\n",
       "      <td>35506</td>\n",
       "      <td>Zurab Khizanishvili</td>\n",
       "    </tr>\n",
       "    <tr>\n",
       "      <th>11059</th>\n",
       "      <td>39902</td>\n",
       "      <td>Zvjezdan Misimovic</td>\n",
       "    </tr>\n",
       "  </tbody>\n",
       "</table>\n",
       "<p>11060 rows × 2 columns</p>\n",
       "</div>"
      ],
      "text/plain": [
       "       player_api_id          player_name\n",
       "0             505942   Aaron Appindangoye\n",
       "1             155782      Aaron Cresswell\n",
       "2             162549          Aaron Doran\n",
       "3              30572        Aaron Galindo\n",
       "4              23780         Aaron Hughes\n",
       "...              ...                  ...\n",
       "11055          26357       Zoumana Camara\n",
       "11056         111182         Zsolt Laczko\n",
       "11057          36491            Zsolt Low\n",
       "11058          35506  Zurab Khizanishvili\n",
       "11059          39902   Zvjezdan Misimovic\n",
       "\n",
       "[11060 rows x 2 columns]"
      ]
     },
     "execution_count": 24,
     "metadata": {},
     "output_type": "execute_result"
    }
   ],
   "source": [
    "df_player.drop(['id','birthday','height','weight'], axis = 1, inplace = True)\n",
    "df_player"
   ]
  },
  {
   "cell_type": "markdown",
   "id": "e95a2d9f",
   "metadata": {},
   "source": [
    "> We drop 4 more coulmns from copied player table because we are done with them for now and only need player name and ID to use it later to merge with other tables"
   ]
  },
  {
   "cell_type": "code",
   "execution_count": 25,
   "id": "a865e61f",
   "metadata": {},
   "outputs": [
    {
     "data": {
      "text/html": [
       "<div>\n",
       "<style scoped>\n",
       "    .dataframe tbody tr th:only-of-type {\n",
       "        vertical-align: middle;\n",
       "    }\n",
       "\n",
       "    .dataframe tbody tr th {\n",
       "        vertical-align: top;\n",
       "    }\n",
       "\n",
       "    .dataframe thead th {\n",
       "        text-align: right;\n",
       "    }\n",
       "</style>\n",
       "<table border=\"1\" class=\"dataframe\">\n",
       "  <thead>\n",
       "    <tr style=\"text-align: right;\">\n",
       "      <th></th>\n",
       "      <th>player_api_id</th>\n",
       "      <th>player_name</th>\n",
       "      <th>overall_rating</th>\n",
       "      <th>potential</th>\n",
       "    </tr>\n",
       "  </thead>\n",
       "  <tbody>\n",
       "    <tr>\n",
       "      <th>0</th>\n",
       "      <td>505942</td>\n",
       "      <td>Aaron Appindangoye</td>\n",
       "      <td>67.0</td>\n",
       "      <td>71.0</td>\n",
       "    </tr>\n",
       "    <tr>\n",
       "      <th>1</th>\n",
       "      <td>505942</td>\n",
       "      <td>Aaron Appindangoye</td>\n",
       "      <td>67.0</td>\n",
       "      <td>71.0</td>\n",
       "    </tr>\n",
       "    <tr>\n",
       "      <th>2</th>\n",
       "      <td>505942</td>\n",
       "      <td>Aaron Appindangoye</td>\n",
       "      <td>62.0</td>\n",
       "      <td>66.0</td>\n",
       "    </tr>\n",
       "    <tr>\n",
       "      <th>3</th>\n",
       "      <td>505942</td>\n",
       "      <td>Aaron Appindangoye</td>\n",
       "      <td>61.0</td>\n",
       "      <td>65.0</td>\n",
       "    </tr>\n",
       "    <tr>\n",
       "      <th>4</th>\n",
       "      <td>505942</td>\n",
       "      <td>Aaron Appindangoye</td>\n",
       "      <td>61.0</td>\n",
       "      <td>65.0</td>\n",
       "    </tr>\n",
       "    <tr>\n",
       "      <th>...</th>\n",
       "      <td>...</td>\n",
       "      <td>...</td>\n",
       "      <td>...</td>\n",
       "      <td>...</td>\n",
       "    </tr>\n",
       "    <tr>\n",
       "      <th>183973</th>\n",
       "      <td>39902</td>\n",
       "      <td>Zvjezdan Misimovic</td>\n",
       "      <td>83.0</td>\n",
       "      <td>85.0</td>\n",
       "    </tr>\n",
       "    <tr>\n",
       "      <th>183974</th>\n",
       "      <td>39902</td>\n",
       "      <td>Zvjezdan Misimovic</td>\n",
       "      <td>78.0</td>\n",
       "      <td>80.0</td>\n",
       "    </tr>\n",
       "    <tr>\n",
       "      <th>183975</th>\n",
       "      <td>39902</td>\n",
       "      <td>Zvjezdan Misimovic</td>\n",
       "      <td>77.0</td>\n",
       "      <td>80.0</td>\n",
       "    </tr>\n",
       "    <tr>\n",
       "      <th>183976</th>\n",
       "      <td>39902</td>\n",
       "      <td>Zvjezdan Misimovic</td>\n",
       "      <td>78.0</td>\n",
       "      <td>81.0</td>\n",
       "    </tr>\n",
       "    <tr>\n",
       "      <th>183977</th>\n",
       "      <td>39902</td>\n",
       "      <td>Zvjezdan Misimovic</td>\n",
       "      <td>80.0</td>\n",
       "      <td>81.0</td>\n",
       "    </tr>\n",
       "  </tbody>\n",
       "</table>\n",
       "<p>183978 rows × 4 columns</p>\n",
       "</div>"
      ],
      "text/plain": [
       "        player_api_id         player_name  overall_rating  potential\n",
       "0              505942  Aaron Appindangoye            67.0       71.0\n",
       "1              505942  Aaron Appindangoye            67.0       71.0\n",
       "2              505942  Aaron Appindangoye            62.0       66.0\n",
       "3              505942  Aaron Appindangoye            61.0       65.0\n",
       "4              505942  Aaron Appindangoye            61.0       65.0\n",
       "...               ...                 ...             ...        ...\n",
       "183973          39902  Zvjezdan Misimovic            83.0       85.0\n",
       "183974          39902  Zvjezdan Misimovic            78.0       80.0\n",
       "183975          39902  Zvjezdan Misimovic            77.0       80.0\n",
       "183976          39902  Zvjezdan Misimovic            78.0       81.0\n",
       "183977          39902  Zvjezdan Misimovic            80.0       81.0\n",
       "\n",
       "[183978 rows x 4 columns]"
      ]
     },
     "execution_count": 25,
     "metadata": {},
     "output_type": "execute_result"
    }
   ],
   "source": [
    "player_attributes_1 = pd.merge(left=df_player, right=player_attributes_1, left_on='player_api_id', right_on='player_api_id')\n",
    "player_attributes_1"
   ]
  },
  {
   "cell_type": "code",
   "execution_count": 26,
   "id": "653f2050",
   "metadata": {
    "scrolled": true
   },
   "outputs": [
    {
     "data": {
      "text/html": [
       "<div>\n",
       "<style scoped>\n",
       "    .dataframe tbody tr th:only-of-type {\n",
       "        vertical-align: middle;\n",
       "    }\n",
       "\n",
       "    .dataframe tbody tr th {\n",
       "        vertical-align: top;\n",
       "    }\n",
       "\n",
       "    .dataframe thead th {\n",
       "        text-align: right;\n",
       "    }\n",
       "</style>\n",
       "<table border=\"1\" class=\"dataframe\">\n",
       "  <thead>\n",
       "    <tr style=\"text-align: right;\">\n",
       "      <th></th>\n",
       "      <th>overall_rating</th>\n",
       "      <th>potential</th>\n",
       "    </tr>\n",
       "    <tr>\n",
       "      <th>player_name</th>\n",
       "      <th></th>\n",
       "      <th></th>\n",
       "    </tr>\n",
       "  </thead>\n",
       "  <tbody>\n",
       "    <tr>\n",
       "      <th>Aaron Appindangoye</th>\n",
       "      <td>63.60</td>\n",
       "      <td>67.60</td>\n",
       "    </tr>\n",
       "    <tr>\n",
       "      <th>Aaron Cresswell</th>\n",
       "      <td>66.97</td>\n",
       "      <td>74.48</td>\n",
       "    </tr>\n",
       "    <tr>\n",
       "      <th>Aaron Doran</th>\n",
       "      <td>67.00</td>\n",
       "      <td>74.19</td>\n",
       "    </tr>\n",
       "    <tr>\n",
       "      <th>Aaron Galindo</th>\n",
       "      <td>69.09</td>\n",
       "      <td>70.78</td>\n",
       "    </tr>\n",
       "    <tr>\n",
       "      <th>Aaron Hughes</th>\n",
       "      <td>73.24</td>\n",
       "      <td>74.68</td>\n",
       "    </tr>\n",
       "    <tr>\n",
       "      <th>...</th>\n",
       "      <td>...</td>\n",
       "      <td>...</td>\n",
       "    </tr>\n",
       "    <tr>\n",
       "      <th>Zsolt Low</th>\n",
       "      <td>67.57</td>\n",
       "      <td>72.86</td>\n",
       "    </tr>\n",
       "    <tr>\n",
       "      <th>Zurab Khizanishvili</th>\n",
       "      <td>70.75</td>\n",
       "      <td>78.12</td>\n",
       "    </tr>\n",
       "    <tr>\n",
       "      <th>Zvjezdan Misimovic</th>\n",
       "      <td>80.00</td>\n",
       "      <td>81.70</td>\n",
       "    </tr>\n",
       "    <tr>\n",
       "      <th>de Oliveira Cleber Monteiro</th>\n",
       "      <td>66.11</td>\n",
       "      <td>67.56</td>\n",
       "    </tr>\n",
       "    <tr>\n",
       "      <th>dos Santos Fabio Junior</th>\n",
       "      <td>66.75</td>\n",
       "      <td>73.00</td>\n",
       "    </tr>\n",
       "  </tbody>\n",
       "</table>\n",
       "<p>10848 rows × 2 columns</p>\n",
       "</div>"
      ],
      "text/plain": [
       "                             overall_rating  potential\n",
       "player_name                                           \n",
       "Aaron Appindangoye                    63.60      67.60\n",
       "Aaron Cresswell                       66.97      74.48\n",
       "Aaron Doran                           67.00      74.19\n",
       "Aaron Galindo                         69.09      70.78\n",
       "Aaron Hughes                          73.24      74.68\n",
       "...                                     ...        ...\n",
       "Zsolt Low                             67.57      72.86\n",
       "Zurab Khizanishvili                   70.75      78.12\n",
       "Zvjezdan Misimovic                    80.00      81.70\n",
       "de Oliveira Cleber Monteiro           66.11      67.56\n",
       "dos Santos Fabio Junior               66.75      73.00\n",
       "\n",
       "[10848 rows x 2 columns]"
      ]
     },
     "execution_count": 26,
     "metadata": {},
     "output_type": "execute_result"
    }
   ],
   "source": [
    "player_attributes_1.drop('player_api_id', axis = 1, inplace = True)\n",
    "player_attributes_1 = round(player_attributes_1.groupby('player_name').mean('overall_rating'), 2)\n",
    "player_attributes_1"
   ]
  },
  {
   "cell_type": "markdown",
   "id": "ee27ecaf",
   "metadata": {},
   "source": [
    "> We drop player Id columns because we are not going to need it for our analysis and round up the average rating and potential to 2 decimal places for convenience."
   ]
  },
  {
   "cell_type": "code",
   "execution_count": 27,
   "id": "9b07d9df",
   "metadata": {},
   "outputs": [],
   "source": [
    "top_players = player_attributes_1.sort_values(by = 'overall_rating', ascending = False). head(10)\n",
    "top_players.to_csv('top_players.csv')\n",
    "\n",
    "top_players_potential = player_attributes_1.sort_values(by = 'potential', ascending = False). head(10)\n",
    "top_players.to_csv('top_players.csv')\n"
   ]
  },
  {
   "cell_type": "markdown",
   "id": "187b51c3",
   "metadata": {},
   "source": [
    "<a id= 'best'></a>\n",
    "\n",
    "# Top players with the best average overall rating"
   ]
  },
  {
   "cell_type": "markdown",
   "id": "d2625d9b",
   "metadata": {},
   "source": [
    ">#### A table been created with the best rated 10 players based on their average performance\n",
    "With the best player in the list *'Lionel Messi'* with average rating 92.19"
   ]
  },
  {
   "cell_type": "code",
   "execution_count": 28,
   "id": "c859e566",
   "metadata": {},
   "outputs": [
    {
     "data": {
      "text/html": [
       "<div>\n",
       "<style scoped>\n",
       "    .dataframe tbody tr th:only-of-type {\n",
       "        vertical-align: middle;\n",
       "    }\n",
       "\n",
       "    .dataframe tbody tr th {\n",
       "        vertical-align: top;\n",
       "    }\n",
       "\n",
       "    .dataframe thead th {\n",
       "        text-align: right;\n",
       "    }\n",
       "</style>\n",
       "<table border=\"1\" class=\"dataframe\">\n",
       "  <thead>\n",
       "    <tr style=\"text-align: right;\">\n",
       "      <th></th>\n",
       "      <th>overall_rating</th>\n",
       "      <th>potential</th>\n",
       "    </tr>\n",
       "    <tr>\n",
       "      <th>player_name</th>\n",
       "      <th></th>\n",
       "      <th></th>\n",
       "    </tr>\n",
       "  </thead>\n",
       "  <tbody>\n",
       "    <tr>\n",
       "      <th>Lionel Messi</th>\n",
       "      <td>92.19</td>\n",
       "      <td>95.23</td>\n",
       "    </tr>\n",
       "    <tr>\n",
       "      <th>Cristiano Ronaldo</th>\n",
       "      <td>91.28</td>\n",
       "      <td>93.48</td>\n",
       "    </tr>\n",
       "    <tr>\n",
       "      <th>Franck Ribery</th>\n",
       "      <td>88.46</td>\n",
       "      <td>89.92</td>\n",
       "    </tr>\n",
       "    <tr>\n",
       "      <th>Andres Iniesta</th>\n",
       "      <td>88.32</td>\n",
       "      <td>90.56</td>\n",
       "    </tr>\n",
       "    <tr>\n",
       "      <th>Zlatan Ibrahimovic</th>\n",
       "      <td>88.29</td>\n",
       "      <td>90.05</td>\n",
       "    </tr>\n",
       "    <tr>\n",
       "      <th>Arjen Robben</th>\n",
       "      <td>87.84</td>\n",
       "      <td>88.60</td>\n",
       "    </tr>\n",
       "    <tr>\n",
       "      <th>Xavi Hernandez</th>\n",
       "      <td>87.64</td>\n",
       "      <td>88.36</td>\n",
       "    </tr>\n",
       "    <tr>\n",
       "      <th>Wayne Rooney</th>\n",
       "      <td>87.22</td>\n",
       "      <td>87.94</td>\n",
       "    </tr>\n",
       "    <tr>\n",
       "      <th>Iker Casillas</th>\n",
       "      <td>86.95</td>\n",
       "      <td>88.23</td>\n",
       "    </tr>\n",
       "    <tr>\n",
       "      <th>Philipp Lahm</th>\n",
       "      <td>86.73</td>\n",
       "      <td>87.53</td>\n",
       "    </tr>\n",
       "  </tbody>\n",
       "</table>\n",
       "</div>"
      ],
      "text/plain": [
       "                    overall_rating  potential\n",
       "player_name                                  \n",
       "Lionel Messi                 92.19      95.23\n",
       "Cristiano Ronaldo            91.28      93.48\n",
       "Franck Ribery                88.46      89.92\n",
       "Andres Iniesta               88.32      90.56\n",
       "Zlatan Ibrahimovic           88.29      90.05\n",
       "Arjen Robben                 87.84      88.60\n",
       "Xavi Hernandez               87.64      88.36\n",
       "Wayne Rooney                 87.22      87.94\n",
       "Iker Casillas                86.95      88.23\n",
       "Philipp Lahm                 86.73      87.53"
      ]
     },
     "execution_count": 28,
     "metadata": {},
     "output_type": "execute_result"
    }
   ],
   "source": [
    "top_players"
   ]
  },
  {
   "cell_type": "markdown",
   "id": "648e0fb9",
   "metadata": {},
   "source": [
    "<a id= 'potential'></a>\n",
    "\n",
    "# Top players with the best average potential rating"
   ]
  },
  {
   "cell_type": "markdown",
   "id": "314e8188",
   "metadata": {},
   "source": [
    ">#### A table been created with the best potential rating 10 players based on their average performance\n",
    "With the best player in the list *'Lionel Messi'* with average potential rating 95.23"
   ]
  },
  {
   "cell_type": "code",
   "execution_count": 29,
   "id": "ebfffbdf",
   "metadata": {
    "scrolled": true
   },
   "outputs": [
    {
     "data": {
      "text/html": [
       "<div>\n",
       "<style scoped>\n",
       "    .dataframe tbody tr th:only-of-type {\n",
       "        vertical-align: middle;\n",
       "    }\n",
       "\n",
       "    .dataframe tbody tr th {\n",
       "        vertical-align: top;\n",
       "    }\n",
       "\n",
       "    .dataframe thead th {\n",
       "        text-align: right;\n",
       "    }\n",
       "</style>\n",
       "<table border=\"1\" class=\"dataframe\">\n",
       "  <thead>\n",
       "    <tr style=\"text-align: right;\">\n",
       "      <th></th>\n",
       "      <th>overall_rating</th>\n",
       "      <th>potential</th>\n",
       "    </tr>\n",
       "    <tr>\n",
       "      <th>player_name</th>\n",
       "      <th></th>\n",
       "      <th></th>\n",
       "    </tr>\n",
       "  </thead>\n",
       "  <tbody>\n",
       "    <tr>\n",
       "      <th>Lionel Messi</th>\n",
       "      <td>92.19</td>\n",
       "      <td>95.23</td>\n",
       "    </tr>\n",
       "    <tr>\n",
       "      <th>Cristiano Ronaldo</th>\n",
       "      <td>91.28</td>\n",
       "      <td>93.48</td>\n",
       "    </tr>\n",
       "    <tr>\n",
       "      <th>Fabio Cannavaro</th>\n",
       "      <td>85.17</td>\n",
       "      <td>90.83</td>\n",
       "    </tr>\n",
       "    <tr>\n",
       "      <th>Neymar</th>\n",
       "      <td>83.80</td>\n",
       "      <td>90.76</td>\n",
       "    </tr>\n",
       "    <tr>\n",
       "      <th>Andres Iniesta</th>\n",
       "      <td>88.32</td>\n",
       "      <td>90.56</td>\n",
       "    </tr>\n",
       "    <tr>\n",
       "      <th>Mario Goetze</th>\n",
       "      <td>83.18</td>\n",
       "      <td>90.15</td>\n",
       "    </tr>\n",
       "    <tr>\n",
       "      <th>Zlatan Ibrahimovic</th>\n",
       "      <td>88.29</td>\n",
       "      <td>90.05</td>\n",
       "    </tr>\n",
       "    <tr>\n",
       "      <th>Roy Makaay</th>\n",
       "      <td>78.33</td>\n",
       "      <td>90.00</td>\n",
       "    </tr>\n",
       "    <tr>\n",
       "      <th>James Rodriguez</th>\n",
       "      <td>83.00</td>\n",
       "      <td>89.95</td>\n",
       "    </tr>\n",
       "    <tr>\n",
       "      <th>Franck Ribery</th>\n",
       "      <td>88.46</td>\n",
       "      <td>89.92</td>\n",
       "    </tr>\n",
       "  </tbody>\n",
       "</table>\n",
       "</div>"
      ],
      "text/plain": [
       "                    overall_rating  potential\n",
       "player_name                                  \n",
       "Lionel Messi                 92.19      95.23\n",
       "Cristiano Ronaldo            91.28      93.48\n",
       "Fabio Cannavaro              85.17      90.83\n",
       "Neymar                       83.80      90.76\n",
       "Andres Iniesta               88.32      90.56\n",
       "Mario Goetze                 83.18      90.15\n",
       "Zlatan Ibrahimovic           88.29      90.05\n",
       "Roy Makaay                   78.33      90.00\n",
       "James Rodriguez              83.00      89.95\n",
       "Franck Ribery                88.46      89.92"
      ]
     },
     "execution_count": 29,
     "metadata": {},
     "output_type": "execute_result"
    }
   ],
   "source": [
    "top_players_potential"
   ]
  },
  {
   "cell_type": "markdown",
   "id": "ce7f14ac",
   "metadata": {},
   "source": [
    " "
   ]
  },
  {
   "cell_type": "code",
   "execution_count": null,
   "id": "0381b9bb",
   "metadata": {},
   "outputs": [],
   "source": [
    "match = pd.read_csv('match.csv')\n",
    "match.head()"
   ]
  },
  {
   "cell_type": "code",
   "execution_count": null,
   "id": "d1fef1bb",
   "metadata": {
    "scrolled": true
   },
   "outputs": [],
   "source": [
    "match.columns"
   ]
  },
  {
   "cell_type": "markdown",
   "id": "cee8e776",
   "metadata": {},
   "source": [
    "> Match table have 115 coulmns we can't do analysis on that much coulmns at the same time, so we only choose coulmns we going  to need for the next analysis which is players id in starting 11 in home and away teams and make a copy of that table to use then check if the table has NaN and drop them if their is any, then reshape the table from wide table to long table for our next analysis, then drop another column we created during melting the table and rename the column for convenience and prepare it for next merging step"
   ]
  },
  {
   "cell_type": "code",
   "execution_count": null,
   "id": "cca5e749",
   "metadata": {},
   "outputs": [],
   "source": [
    "match_players = match[['home_player_1', 'home_player_2', 'home_player_3',\n",
    "       'home_player_4', 'home_player_5', 'home_player_6', 'home_player_7',\n",
    "       'home_player_8', 'home_player_9', 'home_player_10', 'home_player_11',\n",
    "       'away_player_1', 'away_player_2', 'away_player_3', 'away_player_4',\n",
    "       'away_player_5', 'away_player_6', 'away_player_7', 'away_player_8',\n",
    "       'away_player_9', 'away_player_10', 'away_player_11']]\n",
    "match_players"
   ]
  },
  {
   "cell_type": "code",
   "execution_count": null,
   "id": "e2c0d83c",
   "metadata": {},
   "outputs": [],
   "source": [
    "match_players = match_players.melt()\n",
    "match_players = match_players.dropna()\n",
    "match_players.head()"
   ]
  },
  {
   "cell_type": "code",
   "execution_count": null,
   "id": "35a7f6f5",
   "metadata": {},
   "outputs": [],
   "source": [
    "match_players.drop('variable', axis = 1, inplace = True)"
   ]
  },
  {
   "cell_type": "code",
   "execution_count": null,
   "id": "fb641dc7",
   "metadata": {},
   "outputs": [],
   "source": [
    "match_players.rename(columns = {'value':'player_id'}, inplace = True)"
   ]
  },
  {
   "cell_type": "code",
   "execution_count": null,
   "id": "87168376",
   "metadata": {},
   "outputs": [],
   "source": [
    "player.drop(['id', 'player_fifa_api_id', 'birthday', 'height', 'weight'], axis = 1, inplace = True)"
   ]
  },
  {
   "cell_type": "code",
   "execution_count": null,
   "id": "71e30df7",
   "metadata": {},
   "outputs": [],
   "source": [
    "appearance = pd.merge(left=player, right=match_players, left_on='player_api_id', right_on='player_id')\n",
    "appearance"
   ]
  },
  {
   "cell_type": "code",
   "execution_count": null,
   "id": "aaa10e1c",
   "metadata": {},
   "outputs": [],
   "source": [
    "appearance = appearance.groupby('player_name').count().sort_values(by = 'player_api_id',ascending = False)\n",
    "appearance.drop('player_id', axis = 1,inplace = True)\n",
    "appearance.rename(columns = {'player_api_id':'apperances'}, inplace = True)\n",
    "appearance = appearance.head(10)\n",
    "appearance.to_csv('player_most_appearances.csv')"
   ]
  },
  {
   "cell_type": "markdown",
   "id": "8acecaea",
   "metadata": {},
   "source": [
    "> Merge the player table and modfied match table into one table and count the number of apperances for each player in the least and drop id column because we have the player names now and rename 'player_api_id' column into 'apperances' for readabilty"
   ]
  },
  {
   "cell_type": "markdown",
   "id": "3786a5ba",
   "metadata": {},
   "source": [
    "<a id= 'apperances'></a>\n",
    "\n",
    "# Players with most apperances"
   ]
  },
  {
   "cell_type": "markdown",
   "id": "c33d2056",
   "metadata": {},
   "source": [
    ">#### A table been created with 10 players with the most apperances\n",
    "With the player with most appearances is *'Marcelo'* with with total of 513 apperances"
   ]
  },
  {
   "cell_type": "code",
   "execution_count": null,
   "id": "52b39eed",
   "metadata": {},
   "outputs": [],
   "source": [
    "appearance"
   ]
  },
  {
   "cell_type": "markdown",
   "id": "ad2a5808",
   "metadata": {},
   "source": [
    " \n",
    " "
   ]
  },
  {
   "cell_type": "markdown",
   "id": "5016d42f",
   "metadata": {},
   "source": [
    " "
   ]
  },
  {
   "cell_type": "markdown",
   "id": "2a80febc",
   "metadata": {},
   "source": [
    "# Teams"
   ]
  },
  {
   "cell_type": "markdown",
   "id": "5097ab5b",
   "metadata": {},
   "source": [
    " "
   ]
  },
  {
   "cell_type": "markdown",
   "id": "8c3412d5",
   "metadata": {},
   "source": [
    " "
   ]
  },
  {
   "cell_type": "code",
   "execution_count": null,
   "id": "2444ae91",
   "metadata": {
    "scrolled": true
   },
   "outputs": [],
   "source": [
    "match = pd.read_csv('match.csv')\n",
    "match.head()"
   ]
  },
  {
   "cell_type": "markdown",
   "id": "3bb02833",
   "metadata": {},
   "source": [
    "> Again with the match table has a lot of columns that we not going to use for analysis so we pick only the columns we going to need and check data types of the columns and if they have any NaN"
   ]
  },
  {
   "cell_type": "code",
   "execution_count": null,
   "id": "8dc792f2",
   "metadata": {
    "scrolled": true
   },
   "outputs": [],
   "source": [
    "goal = match[['league_id','season', 'home_team_api_id', 'away_team_api_id','home_team_goal', 'away_team_goal']]\n",
    "goal.head()"
   ]
  },
  {
   "cell_type": "code",
   "execution_count": null,
   "id": "bc533e04",
   "metadata": {},
   "outputs": [],
   "source": [
    "goal.info()"
   ]
  },
  {
   "cell_type": "code",
   "execution_count": null,
   "id": "3dd5304a",
   "metadata": {
    "scrolled": false
   },
   "outputs": [],
   "source": [
    "team = pd.read_csv('team.csv')\n",
    "team.head()"
   ]
  },
  {
   "cell_type": "markdown",
   "id": "6f70a38d",
   "metadata": {},
   "source": [
    "> With the team table we only need the team id and name so we drop the rest and check data type of the columns and check if their is any Nan's"
   ]
  },
  {
   "cell_type": "code",
   "execution_count": null,
   "id": "ce9fb334",
   "metadata": {
    "scrolled": true
   },
   "outputs": [],
   "source": [
    "team.drop(['id','team_fifa_api_id','team_short_name'],axis = 1, inplace = True)\n",
    "team.head()"
   ]
  },
  {
   "cell_type": "code",
   "execution_count": null,
   "id": "4e73c8c2",
   "metadata": {
    "scrolled": true
   },
   "outputs": [],
   "source": [
    "team.info()"
   ]
  },
  {
   "cell_type": "markdown",
   "id": "c3597e29",
   "metadata": {},
   "source": [
    "> For next analysis we going to duplicate the team tables twice(home and away) and rename their coulumns into (home and away columns) to preparete it for merge with match table and and find which team came up winning or a draw, then drop columns from league table that we are not going to use and rename the column into league name for readability then check data type and if the league table have any NaN's and then merged it into the newly created match results table, final drop of unnecessary and repeated coulmns and then rearange the columns for better readability."
   ]
  },
  {
   "cell_type": "code",
   "execution_count": null,
   "id": "2fddad1e",
   "metadata": {},
   "outputs": [],
   "source": [
    "home_team = team.copy()\n",
    "away_team = team.copy()"
   ]
  },
  {
   "cell_type": "code",
   "execution_count": null,
   "id": "acac6047",
   "metadata": {},
   "outputs": [],
   "source": [
    "home_team.rename(columns = {'team_api_id' : 'home_team_api_id','team_long_name': 'home_team'}, inplace = True)\n",
    "away_team.rename(columns = {'team_api_id' : 'away_team_api_id','team_long_name': 'away_team'}, inplace = True)"
   ]
  },
  {
   "cell_type": "code",
   "execution_count": null,
   "id": "6bf19770",
   "metadata": {},
   "outputs": [],
   "source": [
    "goal_home = pd.merge(left=goal, right=home_team, left_on='home_team_api_id', right_on='home_team_api_id')"
   ]
  },
  {
   "cell_type": "code",
   "execution_count": null,
   "id": "6aebb48a",
   "metadata": {},
   "outputs": [],
   "source": [
    "goal_home_away = pd.merge(left=goal_home, right=away_team, left_on='away_team_api_id', right_on='away_team_api_id')"
   ]
  },
  {
   "cell_type": "code",
   "execution_count": null,
   "id": "0a47a307",
   "metadata": {},
   "outputs": [],
   "source": [
    "conditions = [goal_home_away['home_team_goal'] > goal_home_away['away_team_goal'],\n",
    "              goal_home_away['home_team_goal'] < goal_home_away['away_team_goal']]\n",
    "choices = [goal_home_away['home_team'], goal_home_away['away_team']]\n",
    "goal_home_away['winner'] = np.select(conditions, choices, default = 'Draw')\n",
    "\n",
    "goal_home_away.head()"
   ]
  },
  {
   "cell_type": "code",
   "execution_count": null,
   "id": "8b1afca7",
   "metadata": {
    "scrolled": true
   },
   "outputs": [],
   "source": [
    "league = pd.read_csv('league.csv')\n",
    "league.head()"
   ]
  },
  {
   "cell_type": "code",
   "execution_count": null,
   "id": "ac2bc3af",
   "metadata": {},
   "outputs": [],
   "source": [
    "league.drop('id', axis = 1, inplace = True)\n",
    "league.rename(columns = {'name':'league_name'}, inplace = True)"
   ]
  },
  {
   "cell_type": "code",
   "execution_count": null,
   "id": "33d90b6e",
   "metadata": {},
   "outputs": [],
   "source": [
    "league.info()"
   ]
  },
  {
   "cell_type": "code",
   "execution_count": null,
   "id": "6b29ee7b",
   "metadata": {
    "scrolled": true
   },
   "outputs": [],
   "source": [
    "goal_home_away_league = pd.merge(left=goal_home_away, right=league, left_on='league_id', right_on='country_id')\n",
    "goal_home_away_league.head()"
   ]
  },
  {
   "cell_type": "code",
   "execution_count": null,
   "id": "96421a04",
   "metadata": {},
   "outputs": [],
   "source": [
    "goal_home_away_league.drop(['league_id', 'home_team_api_id', 'away_team_api_id', 'country_id'],axis = 1, inplace = True)\n",
    "goal_home_away_league = goal_home_away_league.reindex(columns = ['league_name', 'season', 'home_team', 'away_team',\n",
    "                                                                 'home_team_goal', 'away_team_goal','winner'])\n",
    "goal_home_away_league.head()"
   ]
  },
  {
   "cell_type": "code",
   "execution_count": null,
   "id": "86fa8db8",
   "metadata": {},
   "outputs": [],
   "source": [
    "team_season_goals = goal_home_away_league.copy()"
   ]
  },
  {
   "cell_type": "code",
   "execution_count": null,
   "id": "5dc98ad2",
   "metadata": {},
   "outputs": [],
   "source": [
    "home_goals = team_season_goals[['season','league_name', 'home_team', 'home_team_goal']].groupby(['season','league_name','home_team'], as_index = False)['home_team_goal'].sum().sort_values(by = 'home_team_goal',ascending = False)\n",
    "away_goals = team_season_goals[['season','league_name', 'away_team', 'away_team_goal']].groupby(['season','league_name','away_team'], as_index = False)['away_team_goal'].sum().sort_values(by = 'away_team_goal',ascending = False)"
   ]
  },
  {
   "cell_type": "code",
   "execution_count": null,
   "id": "5e469ba7",
   "metadata": {},
   "outputs": [],
   "source": [
    "team_season_goals = pd.merge(left=home_goals, right=away_goals, left_on=['home_team','season'], right_on=['away_team','season'])\n",
    "team_season_goals.head()"
   ]
  },
  {
   "cell_type": "code",
   "execution_count": null,
   "id": "4e74f2aa",
   "metadata": {},
   "outputs": [],
   "source": [
    "team_season_goals.rename(columns = {'league_name_x':'league_name', 'home_team':'team'}, inplace = True)\n",
    "team_season_goals['goals'] = team_season_goals['home_team_goal'] + team_season_goals['away_team_goal']\n",
    "team_season_goals.drop(['league_name_y','away_team','home_team_goal','away_team_goal'],axis = 1, inplace = True)\n",
    "team_season_goals = team_season_goals.sort_values(by = 'goals', ascending = False)"
   ]
  },
  {
   "cell_type": "markdown",
   "id": "f528f83d",
   "metadata": {},
   "source": [
    "> Merge teams goals after calulating the home and away goals for each club for each season and droping repeated coulmns and rename columns for better readability and finally sort the table by number of goals in descending manner."
   ]
  },
  {
   "cell_type": "markdown",
   "id": "b71e702e",
   "metadata": {},
   "source": [
    "<a id= 'season'></a>\n",
    "# Most goals soccered in a season by a team"
   ]
  },
  {
   "cell_type": "markdown",
   "id": "7e2effed",
   "metadata": {},
   "source": [
    ">#### A table been created with top 20 clubs with most goals in a single season\n",
    "With the club with the most goals *'Real Madrid CF'* with 121 goals in season 2011/2012"
   ]
  },
  {
   "cell_type": "code",
   "execution_count": null,
   "id": "9ba9a94b",
   "metadata": {
    "scrolled": true
   },
   "outputs": [],
   "source": [
    "team_season_goals.head(20)"
   ]
  },
  {
   "cell_type": "code",
   "execution_count": null,
   "id": "bf761cd0",
   "metadata": {},
   "outputs": [],
   "source": [
    "def plt_attr(x_label,title):\n",
    "    plt.xticks(fontsize=16)\n",
    "    plt.xlabel(x_label, fontsize = 24)\n",
    "    plt.title(title, fontsize=24);"
   ]
  },
  {
   "cell_type": "code",
   "execution_count": null,
   "id": "47b8cbbb",
   "metadata": {},
   "outputs": [],
   "source": [
    "plt.xticks(fontsize=16)\n",
    "plt.xlabel('Teams', fontsize = 24)\n",
    "plt.title('Teams with most goals in a single season', fontsize=24);"
   ]
  },
  {
   "cell_type": "code",
   "execution_count": null,
   "id": "dcb832e2",
   "metadata": {},
   "outputs": [],
   "source": [
    "team_season_goals.head(20).plot(x = 'team', y = 'goals', figsize = (14,8),width = 0.75, kind='bar', color = '#8DB600')\n",
    "plt_attr('Teams','Teams with most goals in a single season')"
   ]
  },
  {
   "cell_type": "markdown",
   "id": "cfd8c0f3",
   "metadata": {},
   "source": [
    ">#### The bar graph shows total number of goals scorred by teams in different seasons."
   ]
  },
  {
   "cell_type": "code",
   "execution_count": null,
   "id": "ad847274",
   "metadata": {},
   "outputs": [],
   "source": [
    "team_season_goals.to_csv('team_season_goals.csv')"
   ]
  },
  {
   "cell_type": "code",
   "execution_count": null,
   "id": "01779423",
   "metadata": {},
   "outputs": [],
   "source": [
    "team_goals = team_season_goals.groupby('team', as_index = False).sum('goals').sort_values(by = 'goals', ascending = False)"
   ]
  },
  {
   "cell_type": "markdown",
   "id": "ee419637",
   "metadata": {},
   "source": [
    "<a id= 'team_goals'></a>\n",
    "\n",
    "# Most goals scored by a team"
   ]
  },
  {
   "cell_type": "markdown",
   "id": "73626dc1",
   "metadata": {},
   "source": [
    ">#### A table been created with top 10 clubs with most goals in 6 seasons\n",
    "With the club with the most goals *'FC Barcelona'* with total 849 goals in 6 seasons"
   ]
  },
  {
   "cell_type": "code",
   "execution_count": null,
   "id": "b8254b6b",
   "metadata": {
    "scrolled": false
   },
   "outputs": [],
   "source": [
    "team_goals.head(20)"
   ]
  },
  {
   "cell_type": "code",
   "execution_count": null,
   "id": "3e852634",
   "metadata": {},
   "outputs": [],
   "source": [
    "team_goals.head(20).plot(x = 'team', y = 'goals', figsize = (14,8),width = 0.75, kind='bar', color = '#8DB600')\n",
    "plt_attr('Teams','Teams with most goals');"
   ]
  },
  {
   "cell_type": "markdown",
   "id": "14c23a3a",
   "metadata": {},
   "source": [
    ">#### The bar graph shows total number of goals scorred by teams in all seasons."
   ]
  },
  {
   "cell_type": "code",
   "execution_count": null,
   "id": "8800fca8",
   "metadata": {},
   "outputs": [],
   "source": [
    "season_goals = team_season_goals.groupby('season', as_index = False).sum('goals').sort_values(by = 'goals', ascending = False)"
   ]
  },
  {
   "cell_type": "markdown",
   "id": "0a19f665",
   "metadata": {},
   "source": [
    "<a id= 'season_goals'></a>\n",
    "\n",
    "# Total goals scored per season"
   ]
  },
  {
   "cell_type": "markdown",
   "id": "520200cc",
   "metadata": {},
   "source": [
    ">#### A table been created with total goals socred in each season among all leagues\n",
    "With season 2015/2016 with most goals 9162"
   ]
  },
  {
   "cell_type": "code",
   "execution_count": null,
   "id": "e9f7e15d",
   "metadata": {
    "scrolled": true
   },
   "outputs": [],
   "source": [
    "season_goals"
   ]
  },
  {
   "cell_type": "code",
   "execution_count": null,
   "id": "86056f31",
   "metadata": {},
   "outputs": [],
   "source": [
    "season_goals.head(20).plot(x = 'season', y = 'goals', figsize = (14,8),width = 0.75, kind='bar', color = '#8DB600')\n",
    "plt_attr('Seasons','Total number of goals socored each season')"
   ]
  },
  {
   "cell_type": "markdown",
   "id": "b129dd9a",
   "metadata": {},
   "source": [
    ">#### The bar graph shows total number of goals scorred in different seasons."
   ]
  },
  {
   "cell_type": "code",
   "execution_count": null,
   "id": "21208de9",
   "metadata": {},
   "outputs": [],
   "source": [
    "season_goals.to_csv('season_goals.csv')"
   ]
  },
  {
   "cell_type": "code",
   "execution_count": null,
   "id": "0497411a",
   "metadata": {},
   "outputs": [],
   "source": [
    "league_goals = team_season_goals.groupby('league_name', as_index = False).sum('goals').sort_values(by = 'goals', ascending = False)\n"
   ]
  },
  {
   "cell_type": "markdown",
   "id": "c58bb9f4",
   "metadata": {},
   "source": [
    "<a id= 'league_goals'></a>\n",
    "\n",
    "# Total goals scored by league"
   ]
  },
  {
   "cell_type": "markdown",
   "id": "68782018",
   "metadata": {},
   "source": [
    ">#### A table been created with total goals socred in each league for all seasons\n",
    "With 'Spain LIGA BBVA' league with most goals 8412"
   ]
  },
  {
   "cell_type": "code",
   "execution_count": null,
   "id": "71747884",
   "metadata": {
    "scrolled": true
   },
   "outputs": [],
   "source": [
    "league_goals"
   ]
  },
  {
   "cell_type": "code",
   "execution_count": null,
   "id": "010a4e99",
   "metadata": {},
   "outputs": [],
   "source": [
    "league_goals.head(20).plot(x = 'league_name', y = 'goals', figsize = (14,8),width = 0.75, kind='bar', color = '#8DB600')\n",
    "plt_attr('Leagues','Total number of goals scored in each league')"
   ]
  },
  {
   "cell_type": "markdown",
   "id": "f255c5eb",
   "metadata": {},
   "source": [
    ">#### The bar graph shows total number of goals scorred in different leagues."
   ]
  },
  {
   "cell_type": "code",
   "execution_count": null,
   "id": "2c91fe1f",
   "metadata": {},
   "outputs": [],
   "source": [
    "league_goals.to_csv('league_goals.csv')"
   ]
  },
  {
   "cell_type": "code",
   "execution_count": null,
   "id": "fe10e3a4",
   "metadata": {},
   "outputs": [],
   "source": [
    "team_season_goals"
   ]
  },
  {
   "cell_type": "code",
   "execution_count": null,
   "id": "13982ace",
   "metadata": {
    "scrolled": true
   },
   "outputs": [],
   "source": [
    "team_improve = pd.pivot(team_season_goals, columns='season', index=['league_name', 'team'], values='goals')\n",
    "team_improve.head()"
   ]
  },
  {
   "cell_type": "code",
   "execution_count": null,
   "id": "372daff7",
   "metadata": {
    "scrolled": true
   },
   "outputs": [],
   "source": [
    "team_improve.info()"
   ]
  },
  {
   "cell_type": "code",
   "execution_count": null,
   "id": "398bf380",
   "metadata": {},
   "outputs": [],
   "source": [
    "float_columns = ['2008/2009','2009/2010','2010/2011','2011/2012','2012/2013','2013/2014','2014/2015','2015/2016']\n",
    "for x in float_columns:\n",
    "    team_improve[x] = team_improve[x].astype('Int32')"
   ]
  },
  {
   "cell_type": "code",
   "execution_count": null,
   "id": "b0393d7a",
   "metadata": {},
   "outputs": [],
   "source": [
    "team_improve.info()"
   ]
  },
  {
   "cell_type": "code",
   "execution_count": null,
   "id": "5afe38df",
   "metadata": {},
   "outputs": [],
   "source": [
    "team_improve = team_improve.dropna()\n",
    "team_improve['differnce'] = team_improve['2015/2016'] - team_improve['2008/2009']\n",
    "team_improve = team_improve.sort_values(by = 'differnce', ascending = False).head(8)"
   ]
  },
  {
   "cell_type": "markdown",
   "id": "694d1307",
   "metadata": {},
   "source": [
    ">To find team improvement progress we converted team goals table into wide table with seasons as coulmns and teams as rows and checked the data types and turns out to be floats number and goals don't need to be float, so I converted all the columns into ints datatype, and some rows has na result for some seasons which could means that team has been relegated into lower tier league in that year so I choose to drop all clubs with na values to maintain data integrity, and then we calculated how much each team scored in first and last season and find the difference between them."
   ]
  },
  {
   "cell_type": "code",
   "execution_count": null,
   "id": "76799969",
   "metadata": {
    "scrolled": true
   },
   "outputs": [],
   "source": [
    "team_improve.to_csv('team_improve.csv')"
   ]
  },
  {
   "cell_type": "code",
   "execution_count": null,
   "id": "1f6da470",
   "metadata": {
    "scrolled": true
   },
   "outputs": [],
   "source": [
    "team_improve = pd.read_csv('team_improve.csv')"
   ]
  },
  {
   "cell_type": "markdown",
   "id": "8539b1d2",
   "metadata": {},
   "source": [
    "<a id= 'team_improve'></a>\n",
    "\n",
    "# Best improved team in scoring goals"
   ]
  },
  {
   "cell_type": "markdown",
   "id": "784c4e8b",
   "metadata": {},
   "source": [
    ">#### A table been created with difference between total goals scored in season 2008/2009 and season 2015/2016 to find the team improved in scoring goals the most between those 2 seasons and *'Paris Saint-Germain'* came first among these teams with 53 more golas scored (Over the double of number goals)."
   ]
  },
  {
   "cell_type": "code",
   "execution_count": null,
   "id": "798fe800",
   "metadata": {},
   "outputs": [],
   "source": [
    "team_improve"
   ]
  },
  {
   "cell_type": "markdown",
   "id": "756a4a4c",
   "metadata": {},
   "source": [
    "![title](best_improved_clubs.png)"
   ]
  },
  {
   "cell_type": "markdown",
   "id": "1860e214",
   "metadata": {},
   "source": [
    ">The line graph shows best improved teams in number of goals over the 6 seasons period and it shows that Paris Saint-Germain shows the best steady improvement even if it did not score the most goals"
   ]
  },
  {
   "cell_type": "code",
   "execution_count": null,
   "id": "d2691b75",
   "metadata": {},
   "outputs": [],
   "source": [
    "best_teams = goal_home_away_league.copy()"
   ]
  },
  {
   "cell_type": "markdown",
   "id": "15e5829a",
   "metadata": {},
   "source": [
    ">To calculate the cound of teams win we reuse best_teams table with only differnce that we going to drop all draw results since we not going to need it to calculate most wins and then count every team wins and drop repeated and unnecessary columns and rename tables for readability."
   ]
  },
  {
   "cell_type": "code",
   "execution_count": null,
   "id": "ac00cfcd",
   "metadata": {},
   "outputs": [],
   "source": [
    "best_teams = best_teams[best_teams.winner != 'Draw']\n",
    "best_teams.head()"
   ]
  },
  {
   "cell_type": "code",
   "execution_count": null,
   "id": "db37b702",
   "metadata": {},
   "outputs": [],
   "source": [
    "best_teams = best_teams.groupby('winner', as_index = False).count().sort_values(by='league_name', ascending = False)\n",
    "best_teams"
   ]
  },
  {
   "cell_type": "code",
   "execution_count": null,
   "id": "2028e542",
   "metadata": {},
   "outputs": [],
   "source": [
    "best_teams.drop(['season','home_team','away_team','home_team_goal','away_team_goal'], inplace = True, axis = 1)\n",
    "best_teams.rename(columns = {'winner':'team', 'league_name':'wins'}, inplace = True)\n",
    "best_teams = best_teams.head(10)"
   ]
  },
  {
   "cell_type": "markdown",
   "id": "82b43ce2",
   "metadata": {},
   "source": [
    "<a id= 'best_teams'></a>\n",
    "\n",
    "### Teams with most wins"
   ]
  },
  {
   "cell_type": "markdown",
   "id": "418032b7",
   "metadata": {},
   "source": [
    ">#### A table been created with top 10 clubs with most win in 6 seasons\n",
    "With the club with the most win *'FC Barcelona'* with total 234 wins in 6 seasons"
   ]
  },
  {
   "cell_type": "code",
   "execution_count": null,
   "id": "2ca4af97",
   "metadata": {},
   "outputs": [],
   "source": [
    "best_teams"
   ]
  },
  {
   "cell_type": "code",
   "execution_count": null,
   "id": "c3bd2456",
   "metadata": {},
   "outputs": [],
   "source": [
    "best_teams = pd.merge(left = team, right = best_teams, left_on = 'team_long_name', right_on = 'team')\n",
    "best_teams"
   ]
  },
  {
   "cell_type": "code",
   "execution_count": null,
   "id": "30e4299b",
   "metadata": {},
   "outputs": [],
   "source": [
    "best_teams.drop(['team_long_name','wins'], axis = 1, inplace = True)\n",
    "best_teams"
   ]
  },
  {
   "cell_type": "code",
   "execution_count": null,
   "id": "bba317d3",
   "metadata": {},
   "outputs": [],
   "source": [
    "team_attributes = pd.read_csv('team_attributes.csv')\n",
    "team_attributes.head()"
   ]
  },
  {
   "cell_type": "code",
   "execution_count": null,
   "id": "9048c162",
   "metadata": {
    "scrolled": true
   },
   "outputs": [],
   "source": [
    "team_attributes.info()"
   ]
  },
  {
   "cell_type": "markdown",
   "id": "42b88c57",
   "metadata": {},
   "source": [
    "> With team attributes table we only need numeric team attributes values so we drop all object/string columns and then find the average attribute rating for each team based on all matches played and round the number to 2 decimal places for convenience and then 'lef merge' the table with best teams table since we only want to see what the best teams have in commen not what all teams have on common."
   ]
  },
  {
   "cell_type": "code",
   "execution_count": null,
   "id": "2dcae622",
   "metadata": {
    "scrolled": true
   },
   "outputs": [],
   "source": [
    "team_attributes.drop(['id','team_fifa_api_id','date','buildUpPlaySpeedClass','buildUpPlayDribblingClass',\n",
    "                      'buildUpPlayPassingClass','buildUpPlayPositioningClass','chanceCreationPassingClass','chanceCreationCrossingClass',\n",
    "                     'chanceCreationShootingClass','chanceCreationPositioningClass','defencePressureClass','defenceAggressionClass',\n",
    "                      'defenceTeamWidthClass','defenceDefenderLineClass'], axis = 1, inplace = True)\n",
    "team_attributes = round(team_attributes.groupby('team_api_id').mean(), 2)\n",
    "team_attributes"
   ]
  },
  {
   "cell_type": "code",
   "execution_count": null,
   "id": "19387e72",
   "metadata": {},
   "outputs": [],
   "source": [
    "team_attributes.info()"
   ]
  },
  {
   "cell_type": "code",
   "execution_count": null,
   "id": "d734ba2c",
   "metadata": {},
   "outputs": [],
   "source": [
    "team_attributes = round(team_attributes.groupby('team_api_id').mean(), 2)\n",
    "team_attributes"
   ]
  },
  {
   "cell_type": "code",
   "execution_count": null,
   "id": "914f475e",
   "metadata": {},
   "outputs": [],
   "source": [
    "best_teams_attr = pd.merge(left = best_teams, right = team_attributes, how = 'left', left_on = 'team_api_id', right_on = 'team_api_id')"
   ]
  },
  {
   "cell_type": "markdown",
   "id": "859f63fc",
   "metadata": {},
   "source": [
    "<a id= 'best_teams_attr'></a>\n",
    "\n",
    "# Best teams attributes on average"
   ]
  },
  {
   "cell_type": "markdown",
   "id": "4ec7ed49",
   "metadata": {},
   "source": [
    ">#### A table been created with top 10 teams with most wins average attributes, and each team has different playing style and there is no single attribute can be linked to winning, but 'defence Aggression' attribute is the most consistant one on average among the best teams"
   ]
  },
  {
   "cell_type": "code",
   "execution_count": null,
   "id": "d8e21efa",
   "metadata": {
    "scrolled": true
   },
   "outputs": [],
   "source": [
    "best_teams_attr"
   ]
  },
  {
   "cell_type": "markdown",
   "id": "408a1a02",
   "metadata": {},
   "source": [
    "![title](best_teams_attr.png)"
   ]
  },
  {
   "cell_type": "markdown",
   "id": "c2dcc31b",
   "metadata": {},
   "source": [
    ">Line graph shows average attributes for best teams in european leagues based on number of wins"
   ]
  },
  {
   "cell_type": "code",
   "execution_count": null,
   "id": "36f701a0",
   "metadata": {},
   "outputs": [],
   "source": [
    "best_teams_attr.to_csv('best_teams_attr.csv')"
   ]
  },
  {
   "cell_type": "markdown",
   "id": "5b5f389e",
   "metadata": {},
   "source": [
    "> we use the goals table again but this time to find the teams with home or away win and count the wins either home or away and drop unnecessary columns and rearrange table coulmns for convenience."
   ]
  },
  {
   "cell_type": "code",
   "execution_count": null,
   "id": "cc1f263b",
   "metadata": {},
   "outputs": [],
   "source": [
    "conditions = [goal_home_away['home_team_goal'] > goal_home_away['away_team_goal'],\n",
    "              goal_home_away['home_team_goal'] < goal_home_away['away_team_goal']]\n",
    "choices = ['home_team','away_team']\n",
    "goal_home_away['winner'] = np.select(conditions, choices, default = 'Draw')\n",
    "\n",
    "goal_home_away.head()"
   ]
  },
  {
   "cell_type": "code",
   "execution_count": null,
   "id": "96a12a3c",
   "metadata": {
    "scrolled": true
   },
   "outputs": [],
   "source": [
    "win_home_away_teams = pd.merge(left=goal_home_away, right=league, left_on='league_id', right_on='country_id')\n",
    "win_home_away_teams.head()"
   ]
  },
  {
   "cell_type": "code",
   "execution_count": null,
   "id": "bc3d329b",
   "metadata": {},
   "outputs": [],
   "source": [
    "win_home_away = win_home_away_teams.copy()"
   ]
  },
  {
   "cell_type": "code",
   "execution_count": null,
   "id": "966a568d",
   "metadata": {},
   "outputs": [],
   "source": [
    "win_home_away.drop(['league_id', 'home_team_api_id', 'away_team_api_id', 'country_id'],axis = 1, inplace = True)\n",
    "win_home_away.head()"
   ]
  },
  {
   "cell_type": "code",
   "execution_count": null,
   "id": "a1419a59",
   "metadata": {},
   "outputs": [],
   "source": [
    "win_home_away = win_home_away.reindex(columns = ['league_name', 'season', 'home_team', 'away_team', \n",
    "                                                 'home_team_goal', 'away_team_goal','winner'])\n",
    "win_home_away.head()"
   ]
  },
  {
   "cell_type": "code",
   "execution_count": null,
   "id": "8fcf6e99",
   "metadata": {},
   "outputs": [],
   "source": [
    "win_home_away = win_home_away.groupby(['league_name', 'winner'], as_index = False).count()"
   ]
  },
  {
   "cell_type": "code",
   "execution_count": null,
   "id": "728d0e99",
   "metadata": {
    "scrolled": true
   },
   "outputs": [],
   "source": [
    "win_home_away.head(6)"
   ]
  },
  {
   "cell_type": "markdown",
   "id": "fa071237",
   "metadata": {},
   "source": [
    "<a id= 'win_home_away'></a>\n",
    "\n",
    "## Ratio of home to away wins in different leagues"
   ]
  },
  {
   "cell_type": "code",
   "execution_count": null,
   "id": "799680c2",
   "metadata": {
    "scrolled": false
   },
   "outputs": [],
   "source": [
    "win_home_away.drop(['home_team','away_team','home_team_goal','away_team_goal'], axis = 1, inplace = True)\n",
    "win_home_away.rename(columns = {'season':'total'}, inplace = True)\n",
    "win_home_away"
   ]
  },
  {
   "cell_type": "code",
   "execution_count": null,
   "id": "4c111c14",
   "metadata": {
    "scrolled": false
   },
   "outputs": [],
   "source": [
    "win_home_away.pivot('league_name', 'winner', 'total').plot(color = ['yellow', 'red', 'limegreen'], figsize = (14,8),width = 0.75, kind='bar')\n",
    "plt_attr('European Leagues','Home team win ratio to away win ratio in the different european laegues')\n"
   ]
  },
  {
   "cell_type": "markdown",
   "id": "dc27141d",
   "metadata": {},
   "source": [
    ">#### A table been created with the number of wins to compare between win ratio in home and away venues amon different leagues, among all leagues there's significant edge in playing home than away with the most signficant in 'Italy Serie A' and 'Scotland Premier League' has the least signficant difference among all reported european leagues"
   ]
  },
  {
   "cell_type": "code",
   "execution_count": null,
   "id": "b013ac07",
   "metadata": {},
   "outputs": [],
   "source": [
    "bigest_difference =  win_home_away.query('league_name == \"Italy Serie A\"')\n",
    "least_difference = win_home_away.query('league_name == \"Scotland Premier League\"')"
   ]
  },
  {
   "cell_type": "code",
   "execution_count": null,
   "id": "c68f0eb2",
   "metadata": {
    "scrolled": true
   },
   "outputs": [],
   "source": [
    "least_difference"
   ]
  },
  {
   "cell_type": "code",
   "execution_count": null,
   "id": "b51e7583",
   "metadata": {
    "scrolled": true
   },
   "outputs": [],
   "source": [
    "bigest_difference"
   ]
  },
  {
   "cell_type": "code",
   "execution_count": null,
   "id": "aee0e40d",
   "metadata": {},
   "outputs": [],
   "source": [
    "labels = ['draw', 'away win', 'home win']\n",
    "colors = ['yellow', 'red', 'green']"
   ]
  },
  {
   "cell_type": "code",
   "execution_count": null,
   "id": "f95d6077",
   "metadata": {},
   "outputs": [],
   "source": [
    "plt.pie(bigest_difference['total'], labels = labels, colors = colors, autopct='%.0f%%', \n",
    "        textprops={'fontsize': 14},radius = 1);\n",
    "plt.xticks(fontsize=20)\n",
    "plt.xlabel('Italy Serie A', fontsize = 20)\n",
    "plt.title('Home-away win ratio in Italy Serie A', fontsize=24);\n"
   ]
  },
  {
   "cell_type": "markdown",
   "id": "4a810b01",
   "metadata": {},
   "source": [
    ">Pie chart shows percentage of home-away win ration in Italy Serie A"
   ]
  },
  {
   "cell_type": "code",
   "execution_count": null,
   "id": "7c21c6ea",
   "metadata": {},
   "outputs": [],
   "source": [
    "plt.pie(least_difference['total'], labels = labels, colors = colors, autopct='%.0f%%', \n",
    "        textprops={'fontsize': 14},radius = 1);\n",
    "plt.xticks(fontsize=20)\n",
    "plt.xlabel('Scotland Premier League', fontsize = 20)\n",
    "plt.title('Home-away win ratio in Scotland Premier League', fontsize=24);"
   ]
  },
  {
   "cell_type": "markdown",
   "id": "03bca031",
   "metadata": {},
   "source": [
    ">Pie chart shows percentage of home-away win ration in Scotland Premier League"
   ]
  },
  {
   "cell_type": "code",
   "execution_count": null,
   "id": "dfd438a4",
   "metadata": {},
   "outputs": [],
   "source": [
    "win_home_away_teams.drop(['league_id', 'home_team_api_id', 'away_team_api_id', 'country_id','home_team_goal','away_team_goal'],axis = 1, inplace = True)\n",
    "win_home_away_teams.head(20)"
   ]
  },
  {
   "cell_type": "code",
   "execution_count": null,
   "id": "6176ad6a",
   "metadata": {},
   "outputs": [],
   "source": [
    "win_home_away_teams = win_home_away_teams[win_home_away_teams.winner != 'Draw']\n",
    "win_home_away_teams.head()"
   ]
  },
  {
   "cell_type": "code",
   "execution_count": null,
   "id": "715fdc04",
   "metadata": {},
   "outputs": [],
   "source": [
    "win_home_away_teams = win_home_away_teams.groupby(['home_team', 'winner'], as_index = False).count()\n",
    "win_home_away_teams"
   ]
  },
  {
   "cell_type": "code",
   "execution_count": null,
   "id": "9dcf5417",
   "metadata": {},
   "outputs": [],
   "source": [
    "win_home_away_teams.drop(['away_team', 'league_name'], axis = 1, inplace = True)\n",
    "win_home_away_teams.rename(columns = {'winner':'win_as','season':'wins'}, inplace = True)\n",
    "win_home_away_teams"
   ]
  },
  {
   "cell_type": "code",
   "execution_count": null,
   "id": "8c52c65a",
   "metadata": {
    "scrolled": true
   },
   "outputs": [],
   "source": [
    "away_wins = win_home_away_teams[win_home_away_teams['win_as'] == 'away_team'].sort_values(by = 'wins', ascending = False)\n",
    "away_wins.drop('win_as', inplace = True, axis = 1)\n",
    "away_wins.rename(columns = {'wins':'away_wins'},inplace = True)"
   ]
  },
  {
   "cell_type": "markdown",
   "id": "cdbc59a2",
   "metadata": {},
   "source": [
    "<a id= 'away_wins'></a>\n",
    "\n",
    "# Teams with the most away wins"
   ]
  },
  {
   "cell_type": "markdown",
   "id": "09cc8ead",
   "metadata": {},
   "source": [
    ">#### A table been created with top 20 clubs with most away wins in 6 seasons\n",
    "With the club with the most away wins *'Kilmarnock'* with total 72 away wins in 6 seasons"
   ]
  },
  {
   "cell_type": "code",
   "execution_count": null,
   "id": "f4fd86a5",
   "metadata": {
    "scrolled": true
   },
   "outputs": [],
   "source": [
    "away_wins.head(20)"
   ]
  },
  {
   "cell_type": "code",
   "execution_count": null,
   "id": "79f13014",
   "metadata": {},
   "outputs": [],
   "source": [
    "away_wins.head(20).plot(x = 'home_team', y = 'away_wins', figsize = (14,8),width = 0.75, kind='bar', color = '#A7F432')\n",
    "plt_attr('Teams','Teams with most away wins')"
   ]
  },
  {
   "cell_type": "markdown",
   "id": "7dcdea21",
   "metadata": {},
   "source": [
    ">Bar chart for teams with best record in winning in away venues"
   ]
  },
  {
   "cell_type": "code",
   "execution_count": null,
   "id": "0e9830a4",
   "metadata": {},
   "outputs": [],
   "source": [
    "away_wins.to_csv('away_wins.csv')"
   ]
  },
  {
   "cell_type": "code",
   "execution_count": null,
   "id": "2b5359b3",
   "metadata": {},
   "outputs": [],
   "source": [
    "home_wins = win_home_away_teams[win_home_away_teams['win_as'] == 'home_team'].sort_values(by = 'wins', ascending = False)\n",
    "home_wins.drop('win_as', inplace = True, axis = 1)\n",
    "home_wins.rename(columns = {'wins':'home_wins'},inplace = True)"
   ]
  },
  {
   "cell_type": "markdown",
   "id": "3c07763d",
   "metadata": {},
   "source": [
    "<a id= 'home_wins'></a>\n",
    "\n",
    "# Teams with the most home wins"
   ]
  },
  {
   "cell_type": "markdown",
   "id": "6c9d0c21",
   "metadata": {},
   "source": [
    ">#### A table been created with top 20 clubs with most home wins in 6 seasons\n",
    "With the club with the most home wins *'FC Barcelona'* with total 131 home wins in 6 seasons"
   ]
  },
  {
   "cell_type": "code",
   "execution_count": null,
   "id": "88d057da",
   "metadata": {
    "scrolled": false
   },
   "outputs": [],
   "source": [
    "home_wins.head(20)"
   ]
  },
  {
   "cell_type": "code",
   "execution_count": null,
   "id": "1ae5e598",
   "metadata": {
    "scrolled": true
   },
   "outputs": [],
   "source": [
    "home_wins.head(20).plot(x = 'home_team', y = 'home_wins', figsize = (14,8),width = 0.75, kind='bar', color = '#A7F432')\n",
    "plt_attr('Teams','Teams with most home wins')"
   ]
  },
  {
   "cell_type": "markdown",
   "id": "632b3ca8",
   "metadata": {},
   "source": [
    ">Bar chart for teams with best record in winning in home venues"
   ]
  },
  {
   "cell_type": "code",
   "execution_count": null,
   "id": "d471292e",
   "metadata": {},
   "outputs": [],
   "source": [
    "home_wins.to_csv('home_wins.csv')"
   ]
  },
  {
   "cell_type": "markdown",
   "id": "b3e62993",
   "metadata": {},
   "source": [
    " "
   ]
  },
  {
   "cell_type": "markdown",
   "id": "b30b44e6",
   "metadata": {},
   "source": [
    "## Conclusions\n",
    "\n",
    "> Best improved team: Based on improvement in number of goals scored each season, Paris Saint-Germain is the best improved team in the past 8 seasons \n",
    "\n",
    "> Home to away win ratio based on different leagues: with all leagues their are more home wins than away wins in total but you can see a gap differnce between home-away win ratio in different leagues with the Scotland Premier League\thas the least home-away win ratio, while Italy Serie A has the most gap between home and away wins\n",
    "\n",
    ">What team attributes lead to the most victories: Best teams(Based on total number of wins) have different playing styles and no only one single attribute can be pointed to be the cause of victries, but among the best teams 'defence Aggression' is the most average stat among the best team"
   ]
  },
  {
   "cell_type": "markdown",
   "id": "143f9994",
   "metadata": {},
   "source": [
    "## Data limitation\n",
    "\n",
    "> Some tables has too many columns (115 in match table), which making wrangling hideous sometimes\n",
    "\n",
    "> Some columns have ver long, scrambled, unclear data that is very hard to understand and wrangle\n",
    "\n",
    "> A new table for transfers could be useful"
   ]
  }
 ],
 "metadata": {
  "kernelspec": {
   "display_name": "Python 3 (ipykernel)",
   "language": "python",
   "name": "python3"
  },
  "language_info": {
   "codemirror_mode": {
    "name": "ipython",
    "version": 3
   },
   "file_extension": ".py",
   "mimetype": "text/x-python",
   "name": "python",
   "nbconvert_exporter": "python",
   "pygments_lexer": "ipython3",
   "version": "3.9.7"
  }
 },
 "nbformat": 4,
 "nbformat_minor": 5
}
